{
  "cells": [
    {
      "cell_type": "code",
      "execution_count": null,
      "metadata": {
        "_cell_guid": "b1076dfc-b9ad-4769-8c92-a6c4dae69d19",
        "_uuid": "8f2839f25d086af736a60e9eeb907d3b93b6e0e5",
        "execution": {
          "iopub.execute_input": "2024-07-29T21:17:10.73642Z",
          "iopub.status.busy": "2024-07-29T21:17:10.73591Z",
          "iopub.status.idle": "2024-07-29T21:17:18.91412Z",
          "shell.execute_reply": "2024-07-29T21:17:18.913009Z",
          "shell.execute_reply.started": "2024-07-29T21:17:10.736316Z"
        },
        "id": "f2BFSIQ8VnNn",
        "trusted": true
      },
      "outputs": [],
      "source": [
        "!curl ipinfo.io\n",
        "!pip install yfinance "
      ]
    },
    {
      "cell_type": "markdown",
      "metadata": {
        "id": "ujDSAp22VnNo"
      },
      "source": [
        "## Parse Data"
      ]
    },
    {
      "cell_type": "markdown",
      "metadata": {},
      "source": [
        "# 1. PACKAGE IMPORTING AND DATA COLLECTION\n"
      ]
    },
    {
      "cell_type": "markdown",
      "metadata": {},
      "source": [
        "# Standard library imports\n",
        "import os\n",
        "import sys\n",
        "import math\n",
        "import warnings\n",
        "import itertools\n",
        "from math import sqrt\n",
        "from datetime import datetime\n",
        "from itertools import product\n",
        "from datetime import datetime, timedelta\n",
        "\n",
        "# Third-party library imports\n",
        "from arch import arch_model\n",
        "import matplotlib.dates as mdates\n",
        "import matplotlib.pyplot as plt\n",
        "from pylab import rcParams\n",
        "import numpy as np\n",
        "import pandas as pd\n",
        "import seaborn as sns\n",
        "import yfinance as yf\n",
        "import plotly.express as px\n",
        "import plotly.graph_objects as go\n",
        "from plotly.subplots import make_subplots\n",
        "\n",
        "from pmdarima import auto_arima\n",
        "from pandas.plotting import lag_plot\n",
        "from pandas_datareader import data as pdr\n",
        "from sklearn.model_selection import train_test_split\n",
        "from sklearn.preprocessing import MinMaxScaler\n",
        "from sklearn.metrics import mean_absolute_error, mean_squared_error, r2_score\n",
        "from statsmodels.tsa.arima.model import ARIMA\n",
        "from statsmodels.tsa.seasonal import seasonal_decompose\n",
        "from statsmodels.tsa.holtwinters import ExponentialSmoothing, SimpleExpSmoothing, Holt\n",
        "from statsmodels.tsa.stattools import adfuller\n",
        "from statsmodels.graphics.tsaplots import plot_acf, plot_pacf\n",
        "\n",
        "# TensorFlow and Keras imports\n",
        "import tensorflow as tf\n",
        "from tensorflow import keras\n",
        "from keras.callbacks import EarlyStopping\n",
        "from keras.layers import Dense, Dropout, LSTM\n",
        "from keras.utils import plot_model\n",
        "from keras.models import Sequential\n",
        "\n",
        "# IPython display\n",
        "from IPython.display import Image, display, HTML\n",
        "\n",
        "# Matplotlib configuration\n",
        "# rcParams['figure.figsize'] = 10, 6"
      ]
    },
    {
      "cell_type": "code",
      "execution_count": null,
      "metadata": {},
      "outputs": [],
      "source": [
        "warnings.filterwarnings(\"ignore\")\n",
        "# Use a consistent style\n",
        "plt.style.use('seaborn')"
      ]
    },
    {
      "cell_type": "code",
      "execution_count": null,
      "metadata": {},
      "outputs": [],
      "source": [
        "# Download data\n",
        "TICKER = \"TSLA\"\n",
        "target_column = 'Close'\n",
        "df = yf.download(TICKER, start=\"2018-01-01\", end=\"2024-01-01\").reset_index()"
      ]
    },
    {
      "cell_type": "code",
      "execution_count": null,
      "metadata": {},
      "outputs": [],
      "source": [
        "csv_path = 'TSLA.csv'\n",
        "df.to_csv(csv_path, index=False)"
      ]
    },
    {
      "cell_type": "markdown",
      "metadata": {},
      "source": [
        "#### Split Data into training and testing sets"
      ]
    },
    {
      "cell_type": "code",
      "execution_count": null,
      "metadata": {},
      "outputs": [],
      "source": [
        "df.reset_index(inplace=True)\n",
        "df['Date'] = pd.to_datetime(df['Date'])\n",
        "df.set_index('Date', inplace=True)\n",
        "\n",
        "# Split the data into training and test sets\n",
        "split_date = df.index[int(len(df) * 0.8)]\n",
        "train = df[:split_date]\n",
        "test = df[split_date:]"
      ]
    },
    {
      "cell_type": "code",
      "execution_count": null,
      "metadata": {},
      "outputs": [],
      "source": [
        "df[['Open', 'High',\t'Low',\t'Close',\t'Adj Close',\t'Volume']].describe()"
      ]
    },
    {
      "cell_type": "code",
      "execution_count": null,
      "metadata": {},
      "outputs": [],
      "source": [
        "df.dtypes"
      ]
    },
    {
      "cell_type": "code",
      "execution_count": null,
      "metadata": {},
      "outputs": [],
      "source": [
        "# Check for missing values\n",
        "df.isnull().sum()"
      ]
    },
    {
      "cell_type": "code",
      "execution_count": null,
      "metadata": {},
      "outputs": [],
      "source": [
        "def plot_open_vs_high(df):\n",
        "    plt.figure(figsize=(10, 6))\n",
        "\n",
        "    # Scatter plot with 'Date' on x-axis and 'Close' on y-axis\n",
        "    plt.scatter(df.index, df['Close'], color='blue', edgecolor='black')\n",
        "\n",
        "    # Set title and labels\n",
        "    plt.title('Close Price vs Date')\n",
        "    plt.xlabel('Date')\n",
        "    plt.ylabel('Close Price')\n",
        "\n",
        "    # Format the x-axis to show dates clearly\n",
        "    plt.gca().xaxis.set_major_locator(mdates.MonthLocator())\n",
        "    plt.gca().xaxis.set_major_formatter(mdates.DateFormatter('%Y-%m-%d'))\n",
        "\n",
        "    plt.grid(True)\n",
        "    plt.xticks(rotation=45)\n",
        "\n",
        "    plt.tight_layout()\n",
        "    plt.show()"
      ]
    },
    {
      "cell_type": "code",
      "execution_count": null,
      "metadata": {},
      "outputs": [],
      "source": [
        "plot_open_vs_high(test)\n",
        "test.head()"
      ]
    },
    {
      "cell_type": "code",
      "execution_count": null,
      "metadata": {},
      "outputs": [],
      "source": [
        "# Plot the closing price\n",
        "plt.figure(figsize=(18, 7))\n",
        "plt.plot(train.index, train['Close'])\n",
        "plt.title(f'{TICKER} Stock Closing Price')\n",
        "plt.xlabel('Date')\n",
        "plt.ylabel('Price')\n",
        "plt.grid(True)\n",
        "plt.xticks(rotation=45, ha='right', fontsize=9)\n",
        "\n",
        "plt.tight_layout()\n",
        "plt.show()"
      ]
    },
    {
      "cell_type": "code",
      "execution_count": null,
      "metadata": {},
      "outputs": [],
      "source": [
        "# Plot the closing price with shading for the testing period\n",
        "plt.figure(figsize=(18, 7))\n",
        "\n",
        "# Plot the training data\n",
        "plt.plot(train.index, train['Close'], label='Training Data', color='blue')\n",
        "\n",
        "# Plot the testing data\n",
        "plt.plot(test.index, test['Close'], label='Testing Data', color='orange')\n",
        "\n",
        "# Shade the testing area\n",
        "plt.axvspan(test.index[0], test.index[-1], color='gray', alpha=0.3)\n",
        "\n",
        "# Set the title and labels\n",
        "plt.title(f'{TICKER} Stock Closing Price')\n",
        "plt.xlabel('Date')\n",
        "plt.ylabel('Price')\n",
        "\n",
        "# Add grid and format the x-axis\n",
        "plt.grid(True)\n",
        "plt.xticks(rotation=45, ha='right', fontsize=9)\n",
        "\n",
        "# Set major ticks to every 3 months and minor ticks to every month\n",
        "plt.gca().xaxis.set_major_locator(mdates.MonthLocator(interval=3))\n",
        "plt.gca().xaxis.set_minor_locator(mdates.MonthLocator(interval=1))\n",
        "plt.gca().xaxis.set_major_formatter(mdates.DateFormatter('%Y-%m'))\n",
        "\n",
        "# Add a legend\n",
        "plt.legend()\n",
        "\n",
        "# Adjust layout for better fit\n",
        "plt.tight_layout()\n",
        "\n",
        "# Display the plot\n",
        "plt.show()\n"
      ]
    },
    {
      "cell_type": "markdown",
      "metadata": {},
      "source": [
        "# Add Extra Features"
      ]
    },
    {
      "cell_type": "markdown",
      "metadata": {},
      "source": [
        "# Feature Engineering (including previous features)\n",
        "df['Daily_Return'] = df['Close'].pct_change()\n",
        "df['Log_Return'] = np.log(df['Close'] / df['Close'].shift(1))\n",
        "df['Price_Range'] = (df['High'] - df['Low']) / df['Open']\n",
        "df['Volume_Change'] = df['Volume'].pct_change()\n",
        "df['MA_10'] = df['Close'].rolling(window=10).mean()\n",
        "df['MA_30'] = df['Close'].rolling(window=30).mean()\n",
        "df['Volatility'] = df['Daily_Return'].rolling(window=20).std() * np.sqrt(252)\n",
        "df['RSI'] = 100 - (100 / (1 + df['Daily_Return'].rolling(14).mean() / abs(df['Daily_Return']).rolling(14).mean()))\n",
        "\n",
        "# Add Daily Percentage Change\n",
        "df['Daily_Pct_Change'] = df['Close'].pct_change() * 100\n",
        "\n",
        "# Remove rows with NaN values\n",
        "df_clean = df.dropna()\n",
        "\n",
        "# Select features for correlation analysis\n",
        "features = ['Daily_Return', 'Log_Return', 'Price_Range', 'Volume_Change', 'MA_10', 'MA_30', 'Volatility', 'RSI', 'Daily_Pct_Change']\n",
        "\n",
        "# Calculate correlation matrix\n",
        "correlation_matrix = df_clean[features].corr()\n",
        "\n",
        "# Plot correlation heatmap\n",
        "plt.figure(figsize=(12, 10))\n",
        "sns.heatmap(correlation_matrix, annot=True, cmap='coolwarm', vmin=-1, vmax=1, center=0)\n",
        "plt.title('Correlation Heatmap of Engineered Features (including Daily Percentage Change)')\n",
        "plt.tight_layout()\n",
        "plt.show()\n",
        "\n",
        "correlation_matrix\n",
        "\n",
        "# Display the first few rows of the new dataset\n",
        "df_clean[features].head()"
      ]
    },
    {
      "cell_type": "code",
      "execution_count": null,
      "metadata": {},
      "outputs": [],
      "source": [
        "# Calculate missing columns and add them to the DataFrame\n",
        "# Moving Averages\n",
        "df['MA5'] = df['Close'].rolling(window=5).mean()\n",
        "df['MA20'] = df['Close'].rolling(window=20).mean()\n",
        "df['MA50'] = df['Close'].rolling(window=50).mean()\n",
        "\n",
        "# Relative Strength Index (RSI)\n",
        "delta = df['Close'].diff()\n",
        "gain = (delta.where(delta > 0, 0)).rolling(window=14).mean()\n",
        "loss = (-delta.where(delta < 0, 0)).rolling(window=14).mean()\n",
        "rs = gain / loss\n",
        "df['RSI'] = 100 - (100 / (1 + rs))\n",
        "\n",
        "# Bollinger Bands\n",
        "std = df['Close'].rolling(window=20).std()\n",
        "df['BB_middle'] = df['MA20']\n",
        "df['BB_upper'] = df['BB_middle'] + (std * 2)\n",
        "df['BB_lower'] = df['BB_middle'] - (std * 2)\n",
        "\n",
        "# Volume Moving Average\n",
        "df['Volume_MA5'] = df['Volume'].rolling(window=5).mean()\n",
        "\n",
        "# Price Momentum\n",
        "df['Price_Momentum'] = df['Close'].diff(periods=5)\n",
        "\n",
        "# Volume Ratio\n",
        "df['Volume_Ratio'] = df['Volume'] / df['Volume_MA5']\n",
        "\n",
        "# Create a figure with 2 rows and 3 columns of subplots\n",
        "fig, axs = plt.subplots(2, 3, figsize=(20, 12))\n",
        "fig.suptitle('TSLA Stock Analysis', fontsize=16)\n",
        "\n",
        "# 1. Moving Averages\n",
        "axs[0, 0].plot(df.index, df['Close'], label='Close Price')\n",
        "axs[0, 0].plot(df.index, df['MA5'], label='5-day MA')\n",
        "axs[0, 0].plot(df.index, df['MA20'], label='20-day MA')\n",
        "axs[0, 0].plot(df.index, df['MA50'], label='50-day MA')\n",
        "axs[0, 0].set_title('Stock Price with Moving Averages')\n",
        "axs[0, 0].legend()\n",
        "\n",
        "# 2. RSI\n",
        "axs[0, 1].plot(df.index, df['RSI'], label='RSI')\n",
        "axs[0, 1].set_title('Relative Strength Index (RSI)')\n",
        "axs[0, 1].axhline(y=70, color='r', linestyle='--')\n",
        "axs[0, 1].axhline(y=30, color='g', linestyle='--')\n",
        "\n",
        "# 3. Bollinger Bands\n",
        "axs[0, 2].plot(df.index, df['Close'], label='Close Price')\n",
        "axs[0, 2].plot(df.index, df['BB_upper'], label='Upper BB')\n",
        "axs[0, 2].plot(df.index, df['BB_middle'], label='Middle BB')\n",
        "axs[0, 2].plot(df.index, df['BB_lower'], label='Lower BB')\n",
        "axs[0, 2].set_title('Bollinger Bands')\n",
        "axs[0, 2].legend()\n",
        "\n",
        "# 4. Volume\n",
        "axs[1, 0].bar(df.index, df['Volume'], label='Volume')\n",
        "axs[1, 0].plot(df.index, df['Volume_MA5'], color='r', label='5-day MA Volume')\n",
        "axs[1, 0].set_title('Trading Volume')\n",
        "axs[1, 0].legend()\n",
        "\n",
        "# 5. Price Momentum\n",
        "axs[1, 1].plot(df.index, df['Price_Momentum'], label='Price Momentum')\n",
        "axs[1, 1].set_title('Price Momentum (5-day)')\n",
        "axs[1, 1].axhline(y=0, color='r', linestyle='--')\n",
        "\n",
        "# 6. Volume Ratio\n",
        "axs[1, 2].plot(df.index, df['Volume_Ratio'], label='Volume Ratio')\n",
        "axs[1, 2].set_title('Volume Ratio')\n",
        "axs[1, 2].axhline(y=1, color='r', linestyle='--')\n",
        "\n",
        "# Adjust layout and display the plot\n",
        "plt.tight_layout()\n",
        "plt.show()"
      ]
    },
    {
      "cell_type": "code",
      "execution_count": null,
      "metadata": {},
      "outputs": [],
      "source": [
        "# Calculate missing columns and add them to the DataFrame\n",
        "# Moving Averages\n",
        "df['MA5'] = df['Close'].rolling(window=5).mean()\n",
        "df['MA20'] = df['Close'].rolling(window=20).mean()\n",
        "df['MA50'] = df['Close'].rolling(window=50).mean()\n",
        "\n",
        "# Relative Strength Index (RSI)\n",
        "delta = df['Close'].diff()\n",
        "gain = (delta.where(delta > 0, 0)).rolling(window=14).mean()\n",
        "loss = (-delta.where(delta < 0, 0)).rolling(window=14).mean()\n",
        "rs = gain / loss\n",
        "df['RSI'] = 100 - (100 / (1 + rs))\n",
        "\n",
        "# Bollinger Bands\n",
        "std = df['Close'].rolling(window=20).std()\n",
        "df['BB_middle'] = df['MA20']\n",
        "df['BB_upper'] = df['BB_middle'] + (std * 2)\n",
        "df['BB_lower'] = df['BB_middle'] - (std * 2)\n",
        "\n",
        "# Volume Moving Average\n",
        "df['Volume_MA5'] = df['Volume'].rolling(window=5).mean()\n",
        "\n",
        "# Price Momentum\n",
        "df['Price_Momentum'] = df['Close'].diff(periods=5)\n",
        "\n",
        "# Volume Ratio\n",
        "df['Volume_Ratio'] = df['Volume'] / df['Volume_MA5']\n",
        "\n",
        "# Create a figure with 3 rows and 2 columns of subplots\n",
        "fig, axs = plt.subplots(3, 2, figsize=(16, 18))\n",
        "fig.suptitle('TSLA Stock Analysis', fontsize=16)\n",
        "\n",
        "# 1. Moving Averages\n",
        "axs[0, 0].plot(df.index, df['Close'], label='Close Price')\n",
        "axs[0, 0].plot(df.index, df['MA5'], label='5-day MA')\n",
        "axs[0, 0].plot(df.index, df['MA20'], label='20-day MA')\n",
        "axs[0, 0].plot(df.index, df['MA50'], label='50-day MA')\n",
        "axs[0, 0].set_title('Tesla Stock Price with Moving Averages')\n",
        "axs[0, 0].legend()\n",
        "\n",
        "# 2. RSI\n",
        "axs[0, 1].plot(df.index, df['RSI'], label='RSI')\n",
        "axs[0, 1].set_title('Tesla Relative Strength Index (RSI)')\n",
        "axs[0, 1].axhline(y=70, color='r', linestyle='--')\n",
        "axs[0, 1].axhline(y=30, color='g', linestyle='--')\n",
        "\n",
        "# 3. Bollinger Bands\n",
        "axs[1, 0].plot(df.index, df['Close'], label='Close Price')\n",
        "axs[1, 0].plot(df.index, df['BB_upper'], label='Upper BB')\n",
        "axs[1, 0].plot(df.index, df['BB_middle'], label='Middle BB')\n",
        "axs[1, 0].plot(df.index, df['BB_lower'], label='Lower BB')\n",
        "axs[1, 0].set_title('Tesla Bollinger Bands')\n",
        "axs[1, 0].legend()\n",
        "\n",
        "# 4. Volume\n",
        "axs[1, 1].bar(df.index, df['Volume'], label='Volume')\n",
        "axs[1, 1].plot(df.index, df['Volume_MA5'], color='r', label='5-day MA Volume')\n",
        "axs[1, 1].set_title('Tesla Trading Volume')\n",
        "axs[1, 1].legend()\n",
        "\n",
        "# 5. Price Momentum\n",
        "axs[2, 0].plot(df.index, df['Price_Momentum'], label='Price Momentum')\n",
        "axs[2, 0].set_title('Tesla Price Momentum (5-day)')\n",
        "axs[2, 0].axhline(y=0, color='r', linestyle='--')\n",
        "\n",
        "# 6. Volume Ratio\n",
        "axs[2, 1].plot(df.index, df['Volume_Ratio'], label='Volume Ratio')\n",
        "axs[2, 1].set_title('Tesla Volume Ratio')\n",
        "axs[2, 1].axhline(y=1, color='r', linestyle='--')\n",
        "\n",
        "# Adjust layout and display the plot\n",
        "plt.tight_layout(rect=[0, 0, 1, 0.96])\n",
        "plt.show()\n"
      ]
    },
    {
      "cell_type": "markdown",
      "metadata": {},
      "source": [
        "#  Exploratory Data Analysis"
      ]
    },
    {
      "cell_type": "code",
      "execution_count": null,
      "metadata": {},
      "outputs": [],
      "source": [
        "df.isnull().sum()"
      ]
    },
    {
      "cell_type": "code",
      "execution_count": null,
      "metadata": {},
      "outputs": [],
      "source": [
        "df.describe()"
      ]
    },
    {
      "cell_type": "code",
      "execution_count": null,
      "metadata": {},
      "outputs": [],
      "source": [
        "numerical_data = df['Close']\n",
        "\n",
        "plt.style.use('ggplot')\n",
        "plot_acf(numerical_data, lags=30)\n",
        "plt.ylabel(\"Correlation coefficient\")\n",
        "plt.xlabel('Lag at k')\n",
        "plt.show()"
      ]
    },
    {
      "cell_type": "markdown",
      "metadata": {},
      "source": [
        "### 3.1.2 PACF\n",
        "\n",
        "The partial autocorrelation function of lag (k) of a series is the coefficient of that lag in the autoregression equation of Y. The autoregressive equation of Y is nothing but the linear regression of Y with its own lags as predictors.\n",
        "\n",
        "For example, if Y_t is the current series and Y_t-1 is the lag 1 of Y, then the partial autocorrelation of lag 3 (Y_t-3) is the coefficient α3 of Y_t-3 in the following equation:\n",
        "\n",
        "![image.png](data:image/png;base64,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)"
      ]
    },
    {
      "cell_type": "markdown",
      "metadata": {},
      "source": [
        "# numerical_data = df['Close']\n",
        "\n",
        "plt.style.use('ggplot')\n",
        "plot_pacf(df['Close'], lags=15)\n",
        "plt.title(f\"PACF of TSLA {TICKER} prices\")\n",
        "plt.xlabel(\"Lag at k\")\n",
        "plt.ylabel(\"Correlation Coefficient\")\n",
        "plt.show()"
      ]
    }
  ],
  "metadata": {
    "colab": {
      "provenance": []
    },
    "kaggle": {
      "accelerator": "none",
      "dataSources": [
        {
          "datasetId": 867,
          "sourceId": 1580,
          "sourceType": "datasetVersion"
        },
        {
          "datasetId": 55485,
          "sourceId": 106148,
          "sourceType": "datasetVersion"
        }
      ],
      "dockerImageVersionId": 30120,
      "isGpuEnabled": false,
      "isInternetEnabled": true,
      "language": "python",
      "sourceType": "notebook"
    },
    "kernelspec": {
      "display_name": "Python 3",
      "language": "python",
      "name": "python3"
    },
    "language_info": {
      "codemirror_mode": {
        "name": "ipython",
        "version": 3
      },
      "file_extension": ".py",
      "mimetype": "text/x-python",
      "name": "python",
      "nbconvert_exporter": "python",
      "pygments_lexer": "ipython3",
      "version": "3.7.10"
    }
  },
  "nbformat": 4,
  "nbformat_minor": 0
}
