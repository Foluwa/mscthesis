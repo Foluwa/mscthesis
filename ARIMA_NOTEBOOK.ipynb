{
  "cells": [
    {
      "cell_type": "code",
      "execution_count": null,
      "metadata": {
        "_cell_guid": "b1076dfc-b9ad-4769-8c92-a6c4dae69d19",
        "_uuid": "8f2839f25d086af736a60e9eeb907d3b93b6e0e5",
        "execution": {
          "iopub.execute_input": "2024-07-29T21:17:10.73642Z",
          "iopub.status.busy": "2024-07-29T21:17:10.73591Z",
          "iopub.status.idle": "2024-07-29T21:17:18.91412Z",
          "shell.execute_reply": "2024-07-29T21:17:18.913009Z",
          "shell.execute_reply.started": "2024-07-29T21:17:10.736316Z"
        },
        "id": "f2BFSIQ8VnNn",
        "trusted": true
      },
      "outputs": [],
      "source": [
        "!curl ipinfo.io\n",
        "!pip install yfinance "
      ]
    },
    {
      "cell_type": "markdown",
      "metadata": {
        "id": "ujDSAp22VnNo"
      },
      "source": [
        "## Parse Data"
      ]
    },
    {
      "cell_type": "markdown",
      "metadata": {},
      "source": [
        "# 1. PACKAGE IMPORTING AND DATA COLLECTION\n"
      ]
    },
    {
      "cell_type": "markdown",
      "metadata": {},
      "source": [
        "# Standard library imports\n",
        "import os\n",
        "import sys\n",
        "import math\n",
        "import warnings\n",
        "import itertools\n",
        "from math import sqrt\n",
        "from datetime import datetime\n",
        "from itertools import product\n",
        "from datetime import datetime, timedelta\n",
        "\n",
        "# Third-party library imports\n",
        "from arch import arch_model\n",
        "import matplotlib.dates as mdates\n",
        "import matplotlib.pyplot as plt\n",
        "from pylab import rcParams\n",
        "import numpy as np\n",
        "import pandas as pd\n",
        "import seaborn as sns\n",
        "import yfinance as yf\n",
        "import plotly.express as px\n",
        "import plotly.graph_objects as go\n",
        "from plotly.subplots import make_subplots\n",
        "\n",
        "from pmdarima import auto_arima\n",
        "from pandas.plotting import lag_plot\n",
        "from pandas_datareader import data as pdr\n",
        "from sklearn.model_selection import train_test_split\n",
        "from sklearn.preprocessing import MinMaxScaler\n",
        "from sklearn.metrics import mean_absolute_error, mean_squared_error, r2_score\n",
        "from statsmodels.tsa.arima.model import ARIMA\n",
        "from statsmodels.tsa.seasonal import seasonal_decompose\n",
        "from statsmodels.tsa.holtwinters import ExponentialSmoothing, SimpleExpSmoothing, Holt\n",
        "from statsmodels.tsa.stattools import adfuller\n",
        "from statsmodels.graphics.tsaplots import plot_acf, plot_pacf\n",
        "\n",
        "# TensorFlow and Keras imports\n",
        "import tensorflow as tf\n",
        "from tensorflow import keras\n",
        "from keras.callbacks import EarlyStopping\n",
        "from keras.layers import Dense, Dropout, LSTM\n",
        "from keras.utils import plot_model\n",
        "from keras.models import Sequential\n",
        "\n",
        "# IPython display\n",
        "from IPython.display import Image, display, HTML\n",
        "\n",
        "# Matplotlib configuration\n",
        "# rcParams['figure.figsize'] = 10, 6"
      ]
    },
    {
      "cell_type": "code",
      "execution_count": null,
      "metadata": {},
      "outputs": [],
      "source": [
        "warnings.filterwarnings(\"ignore\")\n",
        "# Use a consistent style\n",
        "plt.style.use('seaborn')"
      ]
    },
    {
      "cell_type": "code",
      "execution_count": null,
      "metadata": {},
      "outputs": [],
      "source": [
        "# Download data\n",
        "TICKER = \"TSLA\"\n",
        "target_column = 'Close'\n",
        "df = yf.download(TICKER, start=\"2018-01-01\", end=\"2024-01-01\").reset_index()"
      ]
    },
    {
      "cell_type": "code",
      "execution_count": null,
      "metadata": {},
      "outputs": [],
      "source": [
        "csv_path = 'TSLA.csv'\n",
        "df.to_csv(csv_path, index=False)"
      ]
    },
    {
      "cell_type": "markdown",
      "metadata": {},
      "source": [
        "#### Split Data into training and testing sets"
      ]
    },
    {
      "cell_type": "code",
      "execution_count": null,
      "metadata": {},
      "outputs": [],
      "source": [
        "df.reset_index(inplace=True)\n",
        "df['Date'] = pd.to_datetime(df['Date'])\n",
        "df.set_index('Date', inplace=True)\n",
        "\n",
        "# Split the data into training and test sets\n",
        "split_date = df.index[int(len(df) * 0.8)]\n",
        "train = df[:split_date]\n",
        "test = df[split_date:]"
      ]
    },
    {
      "cell_type": "code",
      "execution_count": null,
      "metadata": {},
      "outputs": [],
      "source": [
        "df[['Open', 'High',\t'Low',\t'Close',\t'Adj Close',\t'Volume']].describe()"
      ]
    },
    {
      "cell_type": "code",
      "execution_count": null,
      "metadata": {},
      "outputs": [],
      "source": [
        "df.dtypes"
      ]
    },
    {
      "cell_type": "code",
      "execution_count": null,
      "metadata": {},
      "outputs": [],
      "source": [
        "# Check for missing values\n",
        "df.isnull().sum()"
      ]
    },
    {
      "cell_type": "code",
      "execution_count": null,
      "metadata": {},
      "outputs": [],
      "source": [
        "def plot_open_vs_high(df):\n",
        "    plt.figure(figsize=(10, 6))\n",
        "\n",
        "    # Scatter plot with 'Date' on x-axis and 'Close' on y-axis\n",
        "    plt.scatter(df.index, df['Close'], color='blue', edgecolor='black')\n",
        "\n",
        "    # Set title and labels\n",
        "    plt.title('Close Price vs Date')\n",
        "    plt.xlabel('Date')\n",
        "    plt.ylabel('Close Price')\n",
        "\n",
        "    # Format the x-axis to show dates clearly\n",
        "    plt.gca().xaxis.set_major_locator(mdates.MonthLocator())\n",
        "    plt.gca().xaxis.set_major_formatter(mdates.DateFormatter('%Y-%m-%d'))\n",
        "\n",
        "    plt.grid(True)\n",
        "    plt.xticks(rotation=45)\n",
        "\n",
        "    plt.tight_layout()\n",
        "    plt.show()"
      ]
    },
    {
      "cell_type": "code",
      "execution_count": null,
      "metadata": {},
      "outputs": [],
      "source": [
        "plot_open_vs_high(test)\n",
        "test.head()"
      ]
    },
    {
      "cell_type": "code",
      "execution_count": null,
      "metadata": {},
      "outputs": [],
      "source": [
        "# Plot the closing price\n",
        "plt.figure(figsize=(18, 7))\n",
        "plt.plot(train.index, train['Close'])\n",
        "plt.title(f'{TICKER} Stock Closing Price')\n",
        "plt.xlabel('Date')\n",
        "plt.ylabel('Price')\n",
        "plt.grid(True)\n",
        "plt.xticks(rotation=45, ha='right', fontsize=9)\n",
        "\n",
        "plt.tight_layout()\n",
        "plt.show()"
      ]
    },
    {
      "cell_type": "code",
      "execution_count": null,
      "metadata": {},
      "outputs": [],
      "source": [
        "# Plot the closing price with shading for the testing period\n",
        "plt.figure(figsize=(18, 7))\n",
        "\n",
        "# Plot the training data\n",
        "plt.plot(train.index, train['Close'], label='Training Data', color='blue')\n",
        "\n",
        "# Plot the testing data\n",
        "plt.plot(test.index, test['Close'], label='Testing Data', color='orange')\n",
        "\n",
        "# Shade the testing area\n",
        "plt.axvspan(test.index[0], test.index[-1], color='gray', alpha=0.3)\n",
        "\n",
        "# Set the title and labels\n",
        "plt.title(f'{TICKER} Stock Closing Price')\n",
        "plt.xlabel('Date')\n",
        "plt.ylabel('Price')\n",
        "\n",
        "# Add grid and format the x-axis\n",
        "plt.grid(True)\n",
        "plt.xticks(rotation=45, ha='right', fontsize=9)\n",
        "\n",
        "# Set major ticks to every 3 months and minor ticks to every month\n",
        "plt.gca().xaxis.set_major_locator(mdates.MonthLocator(interval=3))\n",
        "plt.gca().xaxis.set_minor_locator(mdates.MonthLocator(interval=1))\n",
        "plt.gca().xaxis.set_major_formatter(mdates.DateFormatter('%Y-%m'))\n",
        "\n",
        "# Add a legend\n",
        "plt.legend()\n",
        "\n",
        "# Adjust layout for better fit\n",
        "plt.tight_layout()\n",
        "\n",
        "# Display the plot\n",
        "plt.show()\n"
      ]
    },
    {
      "cell_type": "markdown",
      "metadata": {},
      "source": [
        "# Add Extra Features"
      ]
    },
    {
      "cell_type": "markdown",
      "metadata": {},
      "source": [
        "# Feature Engineering (including previous features)\n",
        "df['Daily_Return'] = df['Close'].pct_change()\n",
        "df['Log_Return'] = np.log(df['Close'] / df['Close'].shift(1))\n",
        "df['Price_Range'] = (df['High'] - df['Low']) / df['Open']\n",
        "df['Volume_Change'] = df['Volume'].pct_change()\n",
        "df['MA_10'] = df['Close'].rolling(window=10).mean()\n",
        "df['MA_30'] = df['Close'].rolling(window=30).mean()\n",
        "df['Volatility'] = df['Daily_Return'].rolling(window=20).std() * np.sqrt(252)\n",
        "df['RSI'] = 100 - (100 / (1 + df['Daily_Return'].rolling(14).mean() / abs(df['Daily_Return']).rolling(14).mean()))\n",
        "\n",
        "# Add Daily Percentage Change\n",
        "df['Daily_Pct_Change'] = df['Close'].pct_change() * 100\n",
        "\n",
        "# Remove rows with NaN values\n",
        "df_clean = df.dropna()\n",
        "\n",
        "# Select features for correlation analysis\n",
        "features = ['Daily_Return', 'Log_Return', 'Price_Range', 'Volume_Change', 'MA_10', 'MA_30', 'Volatility', 'RSI', 'Daily_Pct_Change']\n",
        "\n",
        "# Calculate correlation matrix\n",
        "correlation_matrix = df_clean[features].corr()\n",
        "\n",
        "# Plot correlation heatmap\n",
        "plt.figure(figsize=(12, 10))\n",
        "sns.heatmap(correlation_matrix, annot=True, cmap='coolwarm', vmin=-1, vmax=1, center=0)\n",
        "plt.title('Correlation Heatmap of Engineered Features (including Daily Percentage Change)')\n",
        "plt.tight_layout()\n",
        "plt.show()\n",
        "\n",
        "correlation_matrix\n",
        "\n",
        "# Display the first few rows of the new dataset\n",
        "df_clean[features].head()"
      ]
    },
    {
      "cell_type": "code",
      "execution_count": null,
      "metadata": {},
      "outputs": [],
      "source": [
        "# Calculate missing columns and add them to the DataFrame\n",
        "# Moving Averages\n",
        "df['MA5'] = df['Close'].rolling(window=5).mean()\n",
        "df['MA20'] = df['Close'].rolling(window=20).mean()\n",
        "df['MA50'] = df['Close'].rolling(window=50).mean()\n",
        "\n",
        "# Relative Strength Index (RSI)\n",
        "delta = df['Close'].diff()\n",
        "gain = (delta.where(delta > 0, 0)).rolling(window=14).mean()\n",
        "loss = (-delta.where(delta < 0, 0)).rolling(window=14).mean()\n",
        "rs = gain / loss\n",
        "df['RSI'] = 100 - (100 / (1 + rs))\n",
        "\n",
        "# Bollinger Bands\n",
        "std = df['Close'].rolling(window=20).std()\n",
        "df['BB_middle'] = df['MA20']\n",
        "df['BB_upper'] = df['BB_middle'] + (std * 2)\n",
        "df['BB_lower'] = df['BB_middle'] - (std * 2)\n",
        "\n",
        "# Volume Moving Average\n",
        "df['Volume_MA5'] = df['Volume'].rolling(window=5).mean()\n",
        "\n",
        "# Price Momentum\n",
        "df['Price_Momentum'] = df['Close'].diff(periods=5)\n",
        "\n",
        "# Volume Ratio\n",
        "df['Volume_Ratio'] = df['Volume'] / df['Volume_MA5']\n",
        "\n",
        "# Create a figure with 2 rows and 3 columns of subplots\n",
        "fig, axs = plt.subplots(2, 3, figsize=(20, 12))\n",
        "fig.suptitle('TSLA Stock Analysis', fontsize=16)\n",
        "\n",
        "# 1. Moving Averages\n",
        "axs[0, 0].plot(df.index, df['Close'], label='Close Price')\n",
        "axs[0, 0].plot(df.index, df['MA5'], label='5-day MA')\n",
        "axs[0, 0].plot(df.index, df['MA20'], label='20-day MA')\n",
        "axs[0, 0].plot(df.index, df['MA50'], label='50-day MA')\n",
        "axs[0, 0].set_title('Stock Price with Moving Averages')\n",
        "axs[0, 0].legend()\n",
        "\n",
        "# 2. RSI\n",
        "axs[0, 1].plot(df.index, df['RSI'], label='RSI')\n",
        "axs[0, 1].set_title('Relative Strength Index (RSI)')\n",
        "axs[0, 1].axhline(y=70, color='r', linestyle='--')\n",
        "axs[0, 1].axhline(y=30, color='g', linestyle='--')\n",
        "\n",
        "# 3. Bollinger Bands\n",
        "axs[0, 2].plot(df.index, df['Close'], label='Close Price')\n",
        "axs[0, 2].plot(df.index, df['BB_upper'], label='Upper BB')\n",
        "axs[0, 2].plot(df.index, df['BB_middle'], label='Middle BB')\n",
        "axs[0, 2].plot(df.index, df['BB_lower'], label='Lower BB')\n",
        "axs[0, 2].set_title('Bollinger Bands')\n",
        "axs[0, 2].legend()\n",
        "\n",
        "# 4. Volume\n",
        "axs[1, 0].bar(df.index, df['Volume'], label='Volume')\n",
        "axs[1, 0].plot(df.index, df['Volume_MA5'], color='r', label='5-day MA Volume')\n",
        "axs[1, 0].set_title('Trading Volume')\n",
        "axs[1, 0].legend()\n",
        "\n",
        "# 5. Price Momentum\n",
        "axs[1, 1].plot(df.index, df['Price_Momentum'], label='Price Momentum')\n",
        "axs[1, 1].set_title('Price Momentum (5-day)')\n",
        "axs[1, 1].axhline(y=0, color='r', linestyle='--')\n",
        "\n",
        "# 6. Volume Ratio\n",
        "axs[1, 2].plot(df.index, df['Volume_Ratio'], label='Volume Ratio')\n",
        "axs[1, 2].set_title('Volume Ratio')\n",
        "axs[1, 2].axhline(y=1, color='r', linestyle='--')\n",
        "\n",
        "# Adjust layout and display the plot\n",
        "plt.tight_layout()\n",
        "plt.show()"
      ]
    },
    {
      "cell_type": "code",
      "execution_count": null,
      "metadata": {},
      "outputs": [],
      "source": [
        "# Calculate missing columns and add them to the DataFrame\n",
        "# Moving Averages\n",
        "df['MA5'] = df['Close'].rolling(window=5).mean()\n",
        "df['MA20'] = df['Close'].rolling(window=20).mean()\n",
        "df['MA50'] = df['Close'].rolling(window=50).mean()\n",
        "\n",
        "# Relative Strength Index (RSI)\n",
        "delta = df['Close'].diff()\n",
        "gain = (delta.where(delta > 0, 0)).rolling(window=14).mean()\n",
        "loss = (-delta.where(delta < 0, 0)).rolling(window=14).mean()\n",
        "rs = gain / loss\n",
        "df['RSI'] = 100 - (100 / (1 + rs))\n",
        "\n",
        "# Bollinger Bands\n",
        "std = df['Close'].rolling(window=20).std()\n",
        "df['BB_middle'] = df['MA20']\n",
        "df['BB_upper'] = df['BB_middle'] + (std * 2)\n",
        "df['BB_lower'] = df['BB_middle'] - (std * 2)\n",
        "\n",
        "# Volume Moving Average\n",
        "df['Volume_MA5'] = df['Volume'].rolling(window=5).mean()\n",
        "\n",
        "# Price Momentum\n",
        "df['Price_Momentum'] = df['Close'].diff(periods=5)\n",
        "\n",
        "# Volume Ratio\n",
        "df['Volume_Ratio'] = df['Volume'] / df['Volume_MA5']\n",
        "\n",
        "# Create a figure with 3 rows and 2 columns of subplots\n",
        "fig, axs = plt.subplots(3, 2, figsize=(16, 18))\n",
        "fig.suptitle('TSLA Stock Analysis', fontsize=16)\n",
        "\n",
        "# 1. Moving Averages\n",
        "axs[0, 0].plot(df.index, df['Close'], label='Close Price')\n",
        "axs[0, 0].plot(df.index, df['MA5'], label='5-day MA')\n",
        "axs[0, 0].plot(df.index, df['MA20'], label='20-day MA')\n",
        "axs[0, 0].plot(df.index, df['MA50'], label='50-day MA')\n",
        "axs[0, 0].set_title('Tesla Stock Price with Moving Averages')\n",
        "axs[0, 0].legend()\n",
        "\n",
        "# 2. RSI\n",
        "axs[0, 1].plot(df.index, df['RSI'], label='RSI')\n",
        "axs[0, 1].set_title('Tesla Relative Strength Index (RSI)')\n",
        "axs[0, 1].axhline(y=70, color='r', linestyle='--')\n",
        "axs[0, 1].axhline(y=30, color='g', linestyle='--')\n",
        "\n",
        "# 3. Bollinger Bands\n",
        "axs[1, 0].plot(df.index, df['Close'], label='Close Price')\n",
        "axs[1, 0].plot(df.index, df['BB_upper'], label='Upper BB')\n",
        "axs[1, 0].plot(df.index, df['BB_middle'], label='Middle BB')\n",
        "axs[1, 0].plot(df.index, df['BB_lower'], label='Lower BB')\n",
        "axs[1, 0].set_title('Tesla Bollinger Bands')\n",
        "axs[1, 0].legend()\n",
        "\n",
        "# 4. Volume\n",
        "axs[1, 1].bar(df.index, df['Volume'], label='Volume')\n",
        "axs[1, 1].plot(df.index, df['Volume_MA5'], color='r', label='5-day MA Volume')\n",
        "axs[1, 1].set_title('Tesla Trading Volume')\n",
        "axs[1, 1].legend()\n",
        "\n",
        "# 5. Price Momentum\n",
        "axs[2, 0].plot(df.index, df['Price_Momentum'], label='Price Momentum')\n",
        "axs[2, 0].set_title('Tesla Price Momentum (5-day)')\n",
        "axs[2, 0].axhline(y=0, color='r', linestyle='--')\n",
        "\n",
        "# 6. Volume Ratio\n",
        "axs[2, 1].plot(df.index, df['Volume_Ratio'], label='Volume Ratio')\n",
        "axs[2, 1].set_title('Tesla Volume Ratio')\n",
        "axs[2, 1].axhline(y=1, color='r', linestyle='--')\n",
        "\n",
        "# Adjust layout and display the plot\n",
        "plt.tight_layout(rect=[0, 0, 1, 0.96])\n",
        "plt.show()\n"
      ]
    }
  ],
  "metadata": {
    "colab": {
      "provenance": []
    },
    "kaggle": {
      "accelerator": "none",
      "dataSources": [
        {
          "datasetId": 867,
          "sourceId": 1580,
          "sourceType": "datasetVersion"
        },
        {
          "datasetId": 55485,
          "sourceId": 106148,
          "sourceType": "datasetVersion"
        }
      ],
      "dockerImageVersionId": 30120,
      "isGpuEnabled": false,
      "isInternetEnabled": true,
      "language": "python",
      "sourceType": "notebook"
    },
    "kernelspec": {
      "display_name": "Python 3",
      "language": "python",
      "name": "python3"
    },
    "language_info": {
      "codemirror_mode": {
        "name": "ipython",
        "version": 3
      },
      "file_extension": ".py",
      "mimetype": "text/x-python",
      "name": "python",
      "nbconvert_exporter": "python",
      "pygments_lexer": "ipython3",
      "version": "3.7.10"
    }
  },
  "nbformat": 4,
  "nbformat_minor": 0
}
