{
  "metadata": {
    "kernelspec": {
      "language": "python",
      "display_name": "Python 3",
      "name": "python3"
    },
    "language_info": {
      "name": "python",
      "version": "3.7.10",
      "mimetype": "text/x-python",
      "codemirror_mode": {
        "name": "ipython",
        "version": 3
      },
      "pygments_lexer": "ipython3",
      "nbconvert_exporter": "python",
      "file_extension": ".py"
    },
    "kaggle": {
      "accelerator": "none",
      "dataSources": [
        {
          "sourceId": 1580,
          "sourceType": "datasetVersion",
          "datasetId": 867
        },
        {
          "sourceId": 106148,
          "sourceType": "datasetVersion",
          "datasetId": 55485
        }
      ],
      "dockerImageVersionId": 30120,
      "isInternetEnabled": true,
      "language": "python",
      "sourceType": "notebook",
      "isGpuEnabled": false
    },
    "colab": {
      "provenance": []
    }
  },
  "nbformat_minor": 0,
  "nbformat": 4,
  "cells": [
    {
      "cell_type": "code",
      "source": [
        "import numpy as np\n",
        "import pandas as pd\n",
        "import tensorflow as tf\n",
        "from sklearn.preprocessing import MinMaxScaler\n",
        "import matplotlib.pyplot as plt\n",
        "%matplotlib inline\n",
        "import matplotlib.ticker as mtick"
      ],
      "metadata": {
        "_uuid": "8f2839f25d086af736a60e9eeb907d3b93b6e0e5",
        "_cell_guid": "b1076dfc-b9ad-4769-8c92-a6c4dae69d19",
        "execution": {
          "iopub.status.busy": "2024-07-29T21:17:10.73591Z",
          "iopub.execute_input": "2024-07-29T21:17:10.73642Z",
          "iopub.status.idle": "2024-07-29T21:17:18.91412Z",
          "shell.execute_reply.started": "2024-07-29T21:17:10.736316Z",
          "shell.execute_reply": "2024-07-29T21:17:18.913009Z"
        },
        "trusted": true,
        "id": "f2BFSIQ8VnNn"
      },
      "execution_count": null,
      "outputs": []
    },
    {
      "cell_type": "markdown",
      "source": [
        "## Parse Data"
      ],
      "metadata": {
        "id": "ujDSAp22VnNo"
      }
    },
    {
      "cell_type": "code",
      "source": [
        "SP500 = pd.read_csv(\"./SPX_v1.csv\")\n",
        "SP500"
      ],
      "metadata": {
        "execution": {
          "iopub.status.busy": "2024-07-29T21:17:18.916008Z",
          "iopub.execute_input": "2024-07-29T21:17:18.91648Z",
          "iopub.status.idle": "2024-07-29T21:17:18.972575Z",
          "shell.execute_reply.started": "2024-07-29T21:17:18.916431Z",
          "shell.execute_reply": "2024-07-29T21:17:18.971408Z"
        },
        "trusted": true,
        "id": "wr5vn8QMVnNp",
        "outputId": "a4df0438-3b16-4f19-9e7a-f58c81403529"
      },
      "execution_count": null,
      "outputs": [
        {
          "execution_count": 2,
          "output_type": "execute_result",
          "data": {
            "text/plain": "           date    close\n0     02-Jan-86   209.59\n1     03-Jan-86   210.88\n2     06-Jan-86   210.65\n3     07-Jan-86   213.80\n4     08-Jan-86   207.97\n...         ...      ...\n8187  25-Jun-18  2717.07\n8188  26-Jun-18  2723.06\n8189  27-Jun-18  2699.63\n8190  28-Jun-18  2716.31\n8191  29-Jun-18  2718.37\n\n[8192 rows x 2 columns]",
            "text/html": "<div>\n<style scoped>\n    .dataframe tbody tr th:only-of-type {\n        vertical-align: middle;\n    }\n\n    .dataframe tbody tr th {\n        vertical-align: top;\n    }\n\n    .dataframe thead th {\n        text-align: right;\n    }\n</style>\n<table border=\"1\" class=\"dataframe\">\n  <thead>\n    <tr style=\"text-align: right;\">\n      <th></th>\n      <th>date</th>\n      <th>close</th>\n    </tr>\n  </thead>\n  <tbody>\n    <tr>\n      <th>0</th>\n      <td>02-Jan-86</td>\n      <td>209.59</td>\n    </tr>\n    <tr>\n      <th>1</th>\n      <td>03-Jan-86</td>\n      <td>210.88</td>\n    </tr>\n    <tr>\n      <th>2</th>\n      <td>06-Jan-86</td>\n      <td>210.65</td>\n    </tr>\n    <tr>\n      <th>3</th>\n      <td>07-Jan-86</td>\n      <td>213.80</td>\n    </tr>\n    <tr>\n      <th>4</th>\n      <td>08-Jan-86</td>\n      <td>207.97</td>\n    </tr>\n    <tr>\n      <th>...</th>\n      <td>...</td>\n      <td>...</td>\n    </tr>\n    <tr>\n      <th>8187</th>\n      <td>25-Jun-18</td>\n      <td>2717.07</td>\n    </tr>\n    <tr>\n      <th>8188</th>\n      <td>26-Jun-18</td>\n      <td>2723.06</td>\n    </tr>\n    <tr>\n      <th>8189</th>\n      <td>27-Jun-18</td>\n      <td>2699.63</td>\n    </tr>\n    <tr>\n      <th>8190</th>\n      <td>28-Jun-18</td>\n      <td>2716.31</td>\n    </tr>\n    <tr>\n      <th>8191</th>\n      <td>29-Jun-18</td>\n      <td>2718.37</td>\n    </tr>\n  </tbody>\n</table>\n<p>8192 rows × 2 columns</p>\n</div>"
          },
          "metadata": {}
        }
      ]
    },
    {
      "cell_type": "code",
      "source": [
        "def plot_line(data):\n",
        "    fig1, ax1 = plt.subplots(figsize=(12,  3), constrained_layout=True)\n",
        "\n",
        "    ax1.plot(data.index, data[\"close\"], c=\"red\")\n",
        "\n",
        "    return None"
      ],
      "metadata": {
        "execution": {
          "iopub.status.busy": "2024-07-29T21:17:18.974703Z",
          "iopub.execute_input": "2024-07-29T21:17:18.975083Z",
          "iopub.status.idle": "2024-07-29T21:17:18.981522Z",
          "shell.execute_reply.started": "2024-07-29T21:17:18.975047Z",
          "shell.execute_reply": "2024-07-29T21:17:18.980162Z"
        },
        "trusted": true,
        "id": "ux9V2LXCVnNq"
      },
      "execution_count": null,
      "outputs": []
    },
    {
      "cell_type": "code",
      "source": [
        "plot_line(SP500[-200:])"
      ],
      "metadata": {
        "execution": {
          "iopub.status.busy": "2024-07-29T21:17:18.983948Z",
          "iopub.execute_input": "2024-07-29T21:17:18.984455Z",
          "iopub.status.idle": "2024-07-29T21:17:19.378079Z",
          "shell.execute_reply.started": "2024-07-29T21:17:18.984408Z",
          "shell.execute_reply": "2024-07-29T21:17:19.376906Z"
        },
        "trusted": true,
        "id": "qhgcXq5AVnNq",
        "outputId": "91e3de42-4cf1-49de-f2b6-cc625698c940"
      },
      "execution_count": null,
      "outputs": [
        {
          "output_type": "display_data",
          "data": {
            "text/plain": "<Figure size 864x216 with 1 Axes>",
            "image/png": "[encoded data removed]"
          },
          "metadata": {
            "needs_background": "light"
          }
        }
      ]
    },
    {
      "cell_type": "code",
      "source": [
        "EURUSD = pd.read_csv(\"../input/EURUSD/EURUSD_15m_BID_01.01.2010-31.12.2016.csv\")\n",
        "\n",
        "market_closed_mask = EURUSD[\"Volume\"] == 0\n",
        "EURUSD = EURUSD[~market_closed_mask].reset_index()\n",
        "\n",
        "EURUSD"
      ],
      "metadata": {
        "execution": {
          "iopub.status.busy": "2024-07-29T21:17:19.379724Z",
          "iopub.execute_input": "2024-07-29T21:17:19.38011Z",
          "iopub.status.idle": "2024-07-29T21:17:20.038547Z",
          "shell.execute_reply.started": "2024-07-29T21:17:19.380076Z",
          "shell.execute_reply": "2024-07-29T21:17:20.037442Z"
        },
        "trusted": true,
        "id": "AIfZ65vaVnNr",
        "outputId": "8238b589-ca61-4776-d537-0853544b9ff1"
      },
      "execution_count": null,
      "outputs": [
        {
          "execution_count": 5,
          "output_type": "execute_result",
          "data": {
            "text/plain": "         index              Time     Open     High      Low    Close  \\\n0            0  2010-01-01 00:00  1.43283  1.43293  1.43224  1.43293   \n1            1  2010-01-01 00:15  1.43285  1.43295  1.43229  1.43275   \n2            2  2010-01-01 00:30  1.43280  1.43303  1.43239  1.43281   \n3            3  2010-01-01 00:45  1.43285  1.43294  1.43229  1.43276   \n4            4  2010-01-01 01:00  1.43287  1.43292  1.43206  1.43282   \n...        ...               ...      ...      ...      ...      ...   \n174729  245335  2016-12-30 20:45  1.05358  1.05376  1.05238  1.05247   \n174730  245336  2016-12-30 21:00  1.05244  1.05251  1.05179  1.05180   \n174731  245337  2016-12-30 21:15  1.05179  1.05204  1.05141  1.05191   \n174732  245338  2016-12-30 21:30  1.05191  1.05193  1.05140  1.05156   \n174733  245339  2016-12-30 21:45  1.05150  1.05303  1.05123  1.05150   \n\n              Volume  \n0       6.086000e+08  \n1       5.356000e+08  \n2       4.363000e+08  \n3       6.143000e+08  \n4       7.053000e+08  \n...              ...  \n174729  1.911700e+09  \n174730  8.912800e+08  \n174731  8.146200e+08  \n174732  4.275700e+08  \n174733  1.419200e+09  \n\n[174734 rows x 7 columns]",
            "text/html": "<div>\n<style scoped>\n    .dataframe tbody tr th:only-of-type {\n        vertical-align: middle;\n    }\n\n    .dataframe tbody tr th {\n        vertical-align: top;\n    }\n\n    .dataframe thead th {\n        text-align: right;\n    }\n</style>\n<table border=\"1\" class=\"dataframe\">\n  <thead>\n    <tr style=\"text-align: right;\">\n      <th></th>\n      <th>index</th>\n      <th>Time</th>\n      <th>Open</th>\n      <th>High</th>\n      <th>Low</th>\n      <th>Close</th>\n      <th>Volume</th>\n    </tr>\n  </thead>\n  <tbody>\n    <tr>\n      <th>0</th>\n      <td>0</td>\n      <td>2010-01-01 00:00</td>\n      <td>1.43283</td>\n      <td>1.43293</td>\n      <td>1.43224</td>\n      <td>1.43293</td>\n      <td>6.086000e+08</td>\n    </tr>\n    <tr>\n      <th>1</th>\n      <td>1</td>\n      <td>2010-01-01 00:15</td>\n      <td>1.43285</td>\n      <td>1.43295</td>\n      <td>1.43229</td>\n      <td>1.43275</td>\n      <td>5.356000e+08</td>\n    </tr>\n    <tr>\n      <th>2</th>\n      <td>2</td>\n      <td>2010-01-01 00:30</td>\n      <td>1.43280</td>\n      <td>1.43303</td>\n      <td>1.43239</td>\n      <td>1.43281</td>\n      <td>4.363000e+08</td>\n    </tr>\n    <tr>\n      <th>3</th>\n      <td>3</td>\n      <td>2010-01-01 00:45</td>\n      <td>1.43285</td>\n      <td>1.43294</td>\n      <td>1.43229</td>\n      <td>1.43276</td>\n      <td>6.143000e+08</td>\n    </tr>\n    <tr>\n      <th>4</th>\n      <td>4</td>\n      <td>2010-01-01 01:00</td>\n      <td>1.43287</td>\n      <td>1.43292</td>\n      <td>1.43206</td>\n      <td>1.43282</td>\n      <td>7.053000e+08</td>\n    </tr>\n    <tr>\n      <th>...</th>\n      <td>...</td>\n      <td>...</td>\n      <td>...</td>\n      <td>...</td>\n      <td>...</td>\n      <td>...</td>\n      <td>...</td>\n    </tr>\n    <tr>\n      <th>174729</th>\n      <td>245335</td>\n      <td>2016-12-30 20:45</td>\n      <td>1.05358</td>\n      <td>1.05376</td>\n      <td>1.05238</td>\n      <td>1.05247</td>\n      <td>1.911700e+09</td>\n    </tr>\n    <tr>\n      <th>174730</th>\n      <td>245336</td>\n      <td>2016-12-30 21:00</td>\n      <td>1.05244</td>\n      <td>1.05251</td>\n      <td>1.05179</td>\n      <td>1.05180</td>\n      <td>8.912800e+08</td>\n    </tr>\n    <tr>\n      <th>174731</th>\n      <td>245337</td>\n      <td>2016-12-30 21:15</td>\n      <td>1.05179</td>\n      <td>1.05204</td>\n      <td>1.05141</td>\n      <td>1.05191</td>\n      <td>8.146200e+08</td>\n    </tr>\n    <tr>\n      <th>174732</th>\n      <td>245338</td>\n      <td>2016-12-30 21:30</td>\n      <td>1.05191</td>\n      <td>1.05193</td>\n      <td>1.05140</td>\n      <td>1.05156</td>\n      <td>4.275700e+08</td>\n    </tr>\n    <tr>\n      <th>174733</th>\n      <td>245339</td>\n      <td>2016-12-30 21:45</td>\n      <td>1.05150</td>\n      <td>1.05303</td>\n      <td>1.05123</td>\n      <td>1.05150</td>\n      <td>1.419200e+09</td>\n    </tr>\n  </tbody>\n</table>\n<p>174734 rows × 7 columns</p>\n</div>"
          },
          "metadata": {}
        }
      ]
    },
    {
      "cell_type": "code",
      "source": [
        "def plot_ohlc(data):\n",
        "    fig1, ax1 = plt.subplots(figsize=(12,  3), constrained_layout=True)\n",
        "\n",
        "    for i in data.index:\n",
        "        ax1.vlines(i, ymin=data[\"Low\"][i], ymax=data[\"High\"][i], color=\"black\", linewidth=2)\n",
        "        if data[\"Close\"][i] > data[\"Open\"][i]:\n",
        "            ax1.vlines(i, ymin=data[\"Open\"][i], ymax=data[\"Close\"][i], color=\"green\", linewidth=4)\n",
        "        elif data[\"Close\"][i] < data[\"Open\"][i]:\n",
        "            ax1.vlines(i, ymin=data[\"Close\"][i], ymax=data[\"Open\"][i], color=\"red\", linewidth=4)\n",
        "        else:\n",
        "            ax1.vlines(i, ymin=data[\"Open\"][i], ymax=data[\"Close\"][i]+0.000001, color=\"red\", linewidth=4)\n",
        "\n",
        "    return fig1, ax1"
      ],
      "metadata": {
        "execution": {
          "iopub.status.busy": "2024-07-29T21:17:20.040174Z",
          "iopub.execute_input": "2024-07-29T21:17:20.040508Z",
          "iopub.status.idle": "2024-07-29T21:17:20.052443Z",
          "shell.execute_reply.started": "2024-07-29T21:17:20.040476Z",
          "shell.execute_reply": "2024-07-29T21:17:20.051058Z"
        },
        "trusted": true,
        "id": "AN_q6vutVnNs"
      },
      "execution_count": null,
      "outputs": []
    },
    {
      "cell_type": "code",
      "source": [
        "plot_ohlc(EURUSD[-200:])"
      ],
      "metadata": {
        "execution": {
          "iopub.status.busy": "2024-07-29T21:17:20.054207Z",
          "iopub.execute_input": "2024-07-29T21:17:20.054714Z",
          "iopub.status.idle": "2024-07-29T21:17:21.792734Z",
          "shell.execute_reply.started": "2024-07-29T21:17:20.054667Z",
          "shell.execute_reply": "2024-07-29T21:17:21.791692Z"
        },
        "trusted": true,
        "id": "GWPM8SumVnNs",
        "outputId": "ee72510d-8175-449f-fef2-861d78dafd74"
      },
      "execution_count": null,
      "outputs": [
        {
          "execution_count": 7,
          "output_type": "execute_result",
          "data": {
            "text/plain": "(<Figure size 864x216 with 1 Axes>, <AxesSubplot:>)"
          },
          "metadata": {}
        },
        {
          "output_type": "display_data",
          "data": {
            "text/plain": "<Figure size 864x216 with 1 Axes>",
            "image/png": "[encoded data removed]"
          },
          "metadata": {
            "needs_background": "light"
          }
        }
      ]
    },
    {
      "cell_type": "markdown",
      "source": [
        "## Univariate"
      ],
      "metadata": {
        "id": "9025AlQOVnNt"
      }
    },
    {
      "cell_type": "code",
      "source": [
        "x = np.reshape(SP500[\"close\"].values, [len(SP500[\"close\"]), 1])\n",
        "\n",
        "# Feature Scaling\n",
        "sc = MinMaxScaler(feature_range=(0, 1))\n",
        "x = sc.fit_transform(x)\n",
        "\n",
        "# Train Test Split\n",
        "split = int(np.round(len(x) * 0.8, 0))\n",
        "\n",
        "xx = []\n",
        "yy = []\n",
        "\n",
        "for i in range(10, len(x)-1):\n",
        "    xx.append(x[i-10:i])\n",
        "    yy.append(x[i])\n",
        "\n",
        "xx = np.reshape(xx, (len(xx), len(xx[0]), 1))\n",
        "yy = np.array(yy)\n",
        "\n",
        "xt, xv = xx[:split], xx[split:]\n",
        "yt, yv = yy[:split], yy[split:]"
      ],
      "metadata": {
        "execution": {
          "iopub.status.busy": "2024-07-29T21:17:21.795534Z",
          "iopub.execute_input": "2024-07-29T21:17:21.795894Z",
          "iopub.status.idle": "2024-07-29T21:17:21.832873Z",
          "shell.execute_reply.started": "2024-07-29T21:17:21.79586Z",
          "shell.execute_reply": "2024-07-29T21:17:21.831727Z"
        },
        "trusted": true,
        "id": "_DoIl6TdVnNt"
      },
      "execution_count": null,
      "outputs": []
    },
    {
      "cell_type": "code",
      "source": [
        "univariate_SP500_LSTM_model = tf.keras.Sequential([\n",
        "    tf.keras.layers.LSTM(25, return_sequences=True, input_shape=[xt.shape[0], 1]),\n",
        "    tf.keras.layers.LSTM(25, return_sequences=True),\n",
        "    tf.keras.layers.LSTM(25),\n",
        "    tf.keras.layers.Dense(1)\n",
        "])\n",
        "\n",
        "univariate_SP500_LSTM_model.compile(optimizer=tf.keras.optimizers.Adam(learning_rate=0.01),\n",
        "                                    loss=\"mse\")\n",
        "history = univariate_SP500_LSTM_model.fit(xt, yt, epochs=100, verbose=1,\n",
        "                                          validation_data=(xv, yv),\n",
        "                                          callbacks=[tf.keras.callbacks.EarlyStopping(monitor=\"val_loss\", patience=5)])"
      ],
      "metadata": {
        "scrolled": true,
        "execution": {
          "iopub.status.busy": "2024-07-29T21:17:21.834862Z",
          "iopub.execute_input": "2024-07-29T21:17:21.835239Z",
          "iopub.status.idle": "2024-07-29T21:18:41.620151Z",
          "shell.execute_reply.started": "2024-07-29T21:17:21.835202Z",
          "shell.execute_reply": "2024-07-29T21:18:41.618895Z"
        },
        "trusted": true,
        "id": "IuZE5K1kVnNu",
        "outputId": "8311b6ca-41c9-4211-b71b-3ad1597337cb"
      },
      "execution_count": null,
      "outputs": [
        {
          "name": "stdout",
          "text": "Epoch 1/100\n205/205 [==============================] - 11s 28ms/step - loss: 0.0051 - val_loss: 0.0069\nEpoch 2/100\n205/205 [==============================] - 4s 19ms/step - loss: 8.7965e-05 - val_loss: 0.0070\nEpoch 3/100\n205/205 [==============================] - 4s 19ms/step - loss: 9.2512e-05 - val_loss: 0.0055\nEpoch 4/100\n205/205 [==============================] - 4s 19ms/step - loss: 9.1615e-05 - val_loss: 0.0058\nEpoch 5/100\n205/205 [==============================] - 4s 20ms/step - loss: 8.9660e-05 - val_loss: 0.0039\nEpoch 6/100\n205/205 [==============================] - 4s 19ms/step - loss: 1.0107e-04 - val_loss: 0.0018\nEpoch 7/100\n205/205 [==============================] - 4s 19ms/step - loss: 1.3193e-04 - val_loss: 0.0020\nEpoch 8/100\n205/205 [==============================] - 4s 19ms/step - loss: 6.2173e-05 - val_loss: 0.0011\nEpoch 9/100\n205/205 [==============================] - 4s 19ms/step - loss: 5.5383e-05 - val_loss: 9.7901e-04\nEpoch 10/100\n205/205 [==============================] - 4s 19ms/step - loss: 4.7008e-05 - val_loss: 0.0014\nEpoch 11/100\n205/205 [==============================] - 4s 19ms/step - loss: 5.8839e-05 - val_loss: 5.2504e-04\nEpoch 12/100\n205/205 [==============================] - 4s 19ms/step - loss: 4.5587e-05 - val_loss: 1.7238e-04\nEpoch 13/100\n205/205 [==============================] - 4s 20ms/step - loss: 4.6570e-05 - val_loss: 1.6705e-04\nEpoch 14/100\n205/205 [==============================] - 4s 21ms/step - loss: 4.5451e-05 - val_loss: 0.0016\nEpoch 15/100\n205/205 [==============================] - 4s 19ms/step - loss: 5.8467e-05 - val_loss: 8.1477e-04\nEpoch 16/100\n205/205 [==============================] - 4s 20ms/step - loss: 3.5497e-05 - val_loss: 2.0927e-04\nEpoch 17/100\n205/205 [==============================] - 4s 19ms/step - loss: 3.4526e-05 - val_loss: 4.8481e-04\nEpoch 18/100\n205/205 [==============================] - 4s 20ms/step - loss: 4.4789e-05 - val_loss: 5.0119e-04\n",
          "output_type": "stream"
        }
      ]
    },
    {
      "cell_type": "code",
      "source": [
        "prediction = univariate_SP500_LSTM_model.predict(xv)"
      ],
      "metadata": {
        "execution": {
          "iopub.status.busy": "2024-07-29T21:18:41.621787Z",
          "iopub.execute_input": "2024-07-29T21:18:41.622154Z",
          "iopub.status.idle": "2024-07-29T21:18:43.13684Z",
          "shell.execute_reply.started": "2024-07-29T21:18:41.622121Z",
          "shell.execute_reply": "2024-07-29T21:18:43.135535Z"
        },
        "trusted": true,
        "id": "MeaAQ2wzVnNu"
      },
      "execution_count": null,
      "outputs": []
    },
    {
      "cell_type": "code",
      "source": [
        "def plot_training_loss(history):\n",
        "    if \"loss\" in history.history.keys():\n",
        "        fig1, ax1 = plt.subplots(figsize=(12, 3), constrained_layout=True)\n",
        "        ax1.plot(history.history[\"loss\"], label=\"MSE Train\", color=\"blue\")\n",
        "        ax1.legend()\n",
        "        ax1.grid()\n",
        "        ax1.set_title(\"Loss Function\", fontsize=15)\n",
        "    if \"val_loss\" in history.history.keys():\n",
        "        fig2, ax2 = plt.subplots(figsize=(12, 3), constrained_layout=True)\n",
        "        ax2.plot(history.history[\"val_loss\"], label=\"MSE Test\", color=\"red\")\n",
        "        ax2.legend()\n",
        "        ax2.grid()\n",
        "        ax2.set_xlabel(\"Epoch\", fontsize=15)\n",
        "    return None"
      ],
      "metadata": {
        "execution": {
          "iopub.status.busy": "2024-07-29T21:18:43.138641Z",
          "iopub.execute_input": "2024-07-29T21:18:43.139013Z",
          "iopub.status.idle": "2024-07-29T21:18:43.1489Z",
          "shell.execute_reply.started": "2024-07-29T21:18:43.138978Z",
          "shell.execute_reply": "2024-07-29T21:18:43.14752Z"
        },
        "trusted": true,
        "id": "sXhJaCI9VnNu"
      },
      "execution_count": null,
      "outputs": []
    },
    {
      "cell_type": "code",
      "source": [
        "plot_training_loss(history)"
      ],
      "metadata": {
        "execution": {
          "iopub.status.busy": "2024-07-29T21:18:43.150517Z",
          "iopub.execute_input": "2024-07-29T21:18:43.150854Z",
          "iopub.status.idle": "2024-07-29T21:18:43.920429Z",
          "shell.execute_reply.started": "2024-07-29T21:18:43.150822Z",
          "shell.execute_reply": "2024-07-29T21:18:43.919086Z"
        },
        "trusted": true,
        "id": "47KumROLVnNu",
        "outputId": "931d2f44-1bfa-4478-967d-994442424d76"
      },
      "execution_count": null,
      "outputs": [
        {
          "output_type": "display_data",
          "data": {
            "text/plain": "<Figure size 864x216 with 1 Axes>",
            "image/png": "[encoded data removed]"
          },
          "metadata": {
            "needs_background": "light"
          }
        },
        {
          "output_type": "display_data",
          "data": {
            "text/plain": "<Figure size 864x216 with 1 Axes>",
            "image/png": "[encoded data removed]"
          },
          "metadata": {
            "needs_background": "light"
          }
        }
      ]
    },
    {
      "cell_type": "code",
      "source": [
        "def plot_predictions(actual, predicted):\n",
        "    mse = tf.keras.metrics.mean_squared_error(actual, predicted)\n",
        "    fig1, ax1 = plt.subplots(figsize=(12, 3), constrained_layout=True)\n",
        "    ax1.plot(actual, label=\"Actual\", color=\"blue\")\n",
        "    ax1.plot(predicted, label=\"Predicted\", color=\"red\")\n",
        "    ax1.legend()\n",
        "    ax1.grid()\n",
        "    ax1.set_title(\"MSE: {}\".format(mse))\n",
        "    return None"
      ],
      "metadata": {
        "execution": {
          "iopub.status.busy": "2024-07-29T21:18:43.922045Z",
          "iopub.execute_input": "2024-07-29T21:18:43.922542Z",
          "iopub.status.idle": "2024-07-29T21:18:43.929891Z",
          "shell.execute_reply.started": "2024-07-29T21:18:43.9225Z",
          "shell.execute_reply": "2024-07-29T21:18:43.928689Z"
        },
        "trusted": true,
        "id": "bdD6_EqhVnNu"
      },
      "execution_count": null,
      "outputs": []
    },
    {
      "cell_type": "code",
      "source": [
        "actual = np.reshape(sc.inverse_transform(yv), -1)\n",
        "prediction = np.reshape(sc.inverse_transform(prediction), -1)\n",
        "print(prediction.shape)\n",
        "print(actual.shape)\n",
        "plot_predictions(actual, prediction)"
      ],
      "metadata": {
        "execution": {
          "iopub.status.busy": "2024-07-29T21:18:43.931833Z",
          "iopub.execute_input": "2024-07-29T21:18:43.93235Z",
          "iopub.status.idle": "2024-07-29T21:18:44.364463Z",
          "shell.execute_reply.started": "2024-07-29T21:18:43.932299Z",
          "shell.execute_reply": "2024-07-29T21:18:44.363114Z"
        },
        "trusted": true,
        "id": "l-BjMA8xVnNu",
        "outputId": "0a0e1490-b97d-4ef1-b32f-ec106a7dbca1"
      },
      "execution_count": null,
      "outputs": [
        {
          "name": "stdout",
          "text": "(1627,)\n(1627,)\n",
          "output_type": "stream"
        },
        {
          "output_type": "display_data",
          "data": {
            "text/plain": "<Figure size 864x216 with 1 Axes>",
            "image/png": "[encoded data removed]"
          },
          "metadata": {
            "needs_background": "light"
          }
        }
      ]
    },
    {
      "cell_type": "markdown",
      "source": [
        "## ARIMA-GARCH Signal"
      ],
      "metadata": {
        "id": "ugo3Gi0yVnNv"
      }
    },
    {
      "cell_type": "code",
      "source": [
        "!pip install arch\n",
        "!pip install pmdarima"
      ],
      "metadata": {
        "execution": {
          "iopub.status.busy": "2024-07-29T21:18:44.366204Z",
          "iopub.execute_input": "2024-07-29T21:18:44.366652Z",
          "iopub.status.idle": "2024-07-29T21:19:21.7527Z",
          "shell.execute_reply.started": "2024-07-29T21:18:44.366607Z",
          "shell.execute_reply": "2024-07-29T21:19:21.751399Z"
        },
        "trusted": true,
        "id": "8d_QfZl8VnNv",
        "outputId": "3fcc49a9-23a4-4d40-920c-d8ed9b8decb9"
      },
      "execution_count": null,
      "outputs": [
        {
          "name": "stdout",
          "text": "Collecting arch\n  Downloading arch-5.3.1-cp37-cp37m-manylinux_2_17_x86_64.manylinux2014_x86_64.whl (903 kB)\n\u001b[K     |████████████████████████████████| 903 kB 6.4 MB/s eta 0:00:01\n\u001b[?25hRequirement already satisfied: scipy>=1.3 in /opt/conda/lib/python3.7/site-packages (from arch) (1.6.3)\nRequirement already satisfied: pandas>=1.0 in /opt/conda/lib/python3.7/site-packages (from arch) (1.2.4)\nRequirement already satisfied: numpy>=1.17 in /opt/conda/lib/python3.7/site-packages (from arch) (1.19.5)\nCollecting property-cached>=1.6.4\n  Downloading property_cached-1.6.4-py2.py3-none-any.whl (7.8 kB)\nRequirement already satisfied: statsmodels>=0.11 in /opt/conda/lib/python3.7/site-packages (from arch) (0.12.2)\nRequirement already satisfied: python-dateutil>=2.7.3 in /opt/conda/lib/python3.7/site-packages (from pandas>=1.0->arch) (2.8.1)\nRequirement already satisfied: pytz>=2017.3 in /opt/conda/lib/python3.7/site-packages (from pandas>=1.0->arch) (2021.1)\nRequirement already satisfied: six>=1.5 in /opt/conda/lib/python3.7/site-packages (from python-dateutil>=2.7.3->pandas>=1.0->arch) (1.15.0)\nRequirement already satisfied: patsy>=0.5 in /opt/conda/lib/python3.7/site-packages (from statsmodels>=0.11->arch) (0.5.1)\nInstalling collected packages: property-cached, arch\nSuccessfully installed arch-5.3.1 property-cached-1.6.4\n\u001b[33mWARNING: Running pip as root will break packages and permissions. You should install packages reliably by using venv: https://pip.pypa.io/warnings/venv\u001b[0m\nCollecting pmdarima\n  Downloading pmdarima-2.0.4-cp37-cp37m-manylinux_2_17_x86_64.manylinux2014_x86_64.manylinux_2_28_x86_64.whl (2.0 MB)\n\u001b[K     |████████████████████████████████| 2.0 MB 7.8 MB/s eta 0:00:01\n\u001b[?25hRequirement already satisfied: Cython!=0.29.18,!=0.29.31,>=0.29 in /opt/conda/lib/python3.7/site-packages (from pmdarima) (0.29.23)\nRequirement already satisfied: joblib>=0.11 in /opt/conda/lib/python3.7/site-packages (from pmdarima) (1.0.1)\nRequirement already satisfied: scipy>=1.3.2 in /opt/conda/lib/python3.7/site-packages (from pmdarima) (1.6.3)\nRequirement already satisfied: scikit-learn>=0.22 in /opt/conda/lib/python3.7/site-packages (from pmdarima) (0.23.2)\nRequirement already satisfied: urllib3 in /opt/conda/lib/python3.7/site-packages (from pmdarima) (1.26.5)\nCollecting numpy>=1.21.2\n  Downloading numpy-1.21.6-cp37-cp37m-manylinux_2_12_x86_64.manylinux2010_x86_64.whl (15.7 MB)\n\u001b[K     |████████████████████████████████| 15.7 MB 52.3 MB/s eta 0:00:01\n\u001b[?25hRequirement already satisfied: setuptools!=50.0.0,>=38.6.0 in /opt/conda/lib/python3.7/site-packages (from pmdarima) (49.6.0.post20210108)\nCollecting statsmodels>=0.13.2\n  Downloading statsmodels-0.13.5-cp37-cp37m-manylinux_2_17_x86_64.manylinux2014_x86_64.whl (9.9 MB)\n\u001b[K     |████████████████████████████████| 9.9 MB 35.0 MB/s eta 0:00:01\n\u001b[?25hRequirement already satisfied: pandas>=0.19 in /opt/conda/lib/python3.7/site-packages (from pmdarima) (1.2.4)\nRequirement already satisfied: packaging>=17.1 in /opt/conda/lib/python3.7/site-packages (from pmdarima) (20.9)\nRequirement already satisfied: pyparsing>=2.0.2 in /opt/conda/lib/python3.7/site-packages (from packaging>=17.1->pmdarima) (2.4.7)\nRequirement already satisfied: python-dateutil>=2.7.3 in /opt/conda/lib/python3.7/site-packages (from pandas>=0.19->pmdarima) (2.8.1)\nRequirement already satisfied: pytz>=2017.3 in /opt/conda/lib/python3.7/site-packages (from pandas>=0.19->pmdarima) (2021.1)\nRequirement already satisfied: six>=1.5 in /opt/conda/lib/python3.7/site-packages (from python-dateutil>=2.7.3->pandas>=0.19->pmdarima) (1.15.0)\nRequirement already satisfied: threadpoolctl>=2.0.0 in /opt/conda/lib/python3.7/site-packages (from scikit-learn>=0.22->pmdarima) (2.1.0)\nCollecting patsy>=0.5.2\n  Downloading patsy-0.5.6-py2.py3-none-any.whl (233 kB)\n\u001b[K     |████████████████████████████████| 233 kB 51.1 MB/s eta 0:00:01\n\u001b[?25hCollecting packaging>=17.1\n  Downloading packaging-24.0-py3-none-any.whl (53 kB)\n\u001b[K     |████████████████████████████████| 53 kB 1.4 MB/s  eta 0:00:01\n\u001b[?25hInstalling collected packages: numpy, patsy, packaging, statsmodels, pmdarima\n  Attempting uninstall: numpy\n    Found existing installation: numpy 1.19.5\n    Uninstalling numpy-1.19.5:\n      Successfully uninstalled numpy-1.19.5\n  Attempting uninstall: patsy\n    Found existing installation: patsy 0.5.1\n    Uninstalling patsy-0.5.1:\n      Successfully uninstalled patsy-0.5.1\n  Attempting uninstall: packaging\n    Found existing installation: packaging 20.9\n    Uninstalling packaging-20.9:\n      Successfully uninstalled packaging-20.9\n  Attempting uninstall: statsmodels\n    Found existing installation: statsmodels 0.12.2\n    Uninstalling statsmodels-0.12.2:\n      Successfully uninstalled statsmodels-0.12.2\n\u001b[31mERROR: pip's dependency resolver does not currently take into account all the packages that are installed. This behaviour is the source of the following dependency conflicts.\nyellowbrick 1.3.post1 requires numpy<1.20,>=1.16.0, but you have numpy 1.21.6 which is incompatible.\ntensorflow 2.4.1 requires numpy~=1.19.2, but you have numpy 1.21.6 which is incompatible.\npdpbox 0.2.1 requires matplotlib==3.1.1, but you have matplotlib 3.4.2 which is incompatible.\nmatrixprofile 1.1.10 requires protobuf==3.11.2, but you have protobuf 3.17.3 which is incompatible.\nkornia 0.5.5 requires numpy<=1.19, but you have numpy 1.21.6 which is incompatible.\njupyterlab-git 0.11.0 requires nbdime<2.0.0,>=1.1.0, but you have nbdime 3.1.0 which is incompatible.\nimbalanced-learn 0.8.0 requires scikit-learn>=0.24, but you have scikit-learn 0.23.2 which is incompatible.\u001b[0m\nSuccessfully installed numpy-1.21.6 packaging-24.0 patsy-0.5.6 pmdarima-2.0.4 statsmodels-0.13.5\n\u001b[33mWARNING: Running pip as root will break packages and permissions. You should install packages reliably by using venv: https://pip.pypa.io/warnings/venv\u001b[0m\n",
          "output_type": "stream"
        }
      ]
    },
    {
      "cell_type": "code",
      "source": [
        "from arch import arch_model\n",
        "import pmdarima as pm\n",
        "from statsmodels.tsa.arima.model import ARIMA"
      ],
      "metadata": {
        "execution": {
          "iopub.status.busy": "2024-07-29T21:21:08.936109Z",
          "iopub.execute_input": "2024-07-29T21:21:08.936535Z",
          "iopub.status.idle": "2024-07-29T21:21:09.004299Z",
          "shell.execute_reply.started": "2024-07-29T21:21:08.936495Z",
          "shell.execute_reply": "2024-07-29T21:21:09.001317Z"
        },
        "trusted": true,
        "id": "r7BeG-1TVnNv",
        "outputId": "e33a4a14-953a-4564-f839-81b815c51b70"
      },
      "execution_count": null,
      "outputs": [
        {
          "traceback": [
            "\u001b[0;31m---------------------------------------------------------------------------\u001b[0m",
            "\u001b[0;31mValueError\u001b[0m                                Traceback (most recent call last)",
            "\u001b[0;32m<ipython-input-20-65ca071ae9fe>\u001b[0m in \u001b[0;36m<module>\u001b[0;34m\u001b[0m\n\u001b[1;32m      1\u001b[0m \u001b[0;32mfrom\u001b[0m \u001b[0march\u001b[0m \u001b[0;32mimport\u001b[0m \u001b[0march_model\u001b[0m\u001b[0;34m\u001b[0m\u001b[0;34m\u001b[0m\u001b[0m\n\u001b[0;32m----> 2\u001b[0;31m \u001b[0;32mimport\u001b[0m \u001b[0mpmdarima\u001b[0m \u001b[0;32mas\u001b[0m \u001b[0mpm\u001b[0m\u001b[0;34m\u001b[0m\u001b[0;34m\u001b[0m\u001b[0m\n\u001b[0m\u001b[1;32m      3\u001b[0m \u001b[0;32mfrom\u001b[0m \u001b[0mstatsmodels\u001b[0m\u001b[0;34m.\u001b[0m\u001b[0mtsa\u001b[0m\u001b[0;34m.\u001b[0m\u001b[0marima\u001b[0m\u001b[0;34m.\u001b[0m\u001b[0mmodel\u001b[0m \u001b[0;32mimport\u001b[0m \u001b[0mARIMA\u001b[0m\u001b[0;34m\u001b[0m\u001b[0;34m\u001b[0m\u001b[0m\n",
            "\u001b[0;32m/opt/conda/lib/python3.7/site-packages/pmdarima/__init__.py\u001b[0m in \u001b[0;36m<module>\u001b[0;34m\u001b[0m\n\u001b[1;32m     50\u001b[0m \u001b[0;34m\u001b[0m\u001b[0m\n\u001b[1;32m     51\u001b[0m     \u001b[0;31m# Stuff we want at top-level\u001b[0m\u001b[0;34m\u001b[0m\u001b[0;34m\u001b[0m\u001b[0;34m\u001b[0m\u001b[0m\n\u001b[0;32m---> 52\u001b[0;31m     \u001b[0;32mfrom\u001b[0m \u001b[0;34m.\u001b[0m\u001b[0marima\u001b[0m \u001b[0;32mimport\u001b[0m \u001b[0mauto_arima\u001b[0m\u001b[0;34m,\u001b[0m \u001b[0mARIMA\u001b[0m\u001b[0;34m,\u001b[0m \u001b[0mAutoARIMA\u001b[0m\u001b[0;34m,\u001b[0m \u001b[0mStepwiseContext\u001b[0m\u001b[0;34m,\u001b[0m \u001b[0mdecompose\u001b[0m\u001b[0;34m\u001b[0m\u001b[0;34m\u001b[0m\u001b[0m\n\u001b[0m\u001b[1;32m     53\u001b[0m     \u001b[0;32mfrom\u001b[0m \u001b[0;34m.\u001b[0m\u001b[0mutils\u001b[0m \u001b[0;32mimport\u001b[0m \u001b[0macf\u001b[0m\u001b[0;34m,\u001b[0m \u001b[0mautocorr_plot\u001b[0m\u001b[0;34m,\u001b[0m \u001b[0mc\u001b[0m\u001b[0;34m,\u001b[0m \u001b[0mpacf\u001b[0m\u001b[0;34m,\u001b[0m \u001b[0mplot_acf\u001b[0m\u001b[0;34m,\u001b[0m \u001b[0mplot_pacf\u001b[0m\u001b[0;34m,\u001b[0m\u001b[0;31m \u001b[0m\u001b[0;31m\\\u001b[0m\u001b[0;34m\u001b[0m\u001b[0;34m\u001b[0m\u001b[0m\n\u001b[1;32m     54\u001b[0m         \u001b[0mtsdisplay\u001b[0m\u001b[0;34m\u001b[0m\u001b[0;34m\u001b[0m\u001b[0m\n",
            "\u001b[0;32m/opt/conda/lib/python3.7/site-packages/pmdarima/arima/__init__.py\u001b[0m in \u001b[0;36m<module>\u001b[0;34m\u001b[0m\n\u001b[1;32m      3\u001b[0m \u001b[0;31m# Author: Taylor Smith <taylor.smith@alkaline-ml.com>\u001b[0m\u001b[0;34m\u001b[0m\u001b[0;34m\u001b[0m\u001b[0;34m\u001b[0m\u001b[0m\n\u001b[1;32m      4\u001b[0m \u001b[0;34m\u001b[0m\u001b[0m\n\u001b[0;32m----> 5\u001b[0;31m \u001b[0;32mfrom\u001b[0m \u001b[0;34m.\u001b[0m\u001b[0mapprox\u001b[0m \u001b[0;32mimport\u001b[0m \u001b[0;34m*\u001b[0m\u001b[0;34m\u001b[0m\u001b[0;34m\u001b[0m\u001b[0m\n\u001b[0m\u001b[1;32m      6\u001b[0m \u001b[0;32mfrom\u001b[0m \u001b[0;34m.\u001b[0m\u001b[0marima\u001b[0m \u001b[0;32mimport\u001b[0m \u001b[0;34m*\u001b[0m\u001b[0;34m\u001b[0m\u001b[0;34m\u001b[0m\u001b[0m\n\u001b[1;32m      7\u001b[0m \u001b[0;32mfrom\u001b[0m \u001b[0;34m.\u001b[0m\u001b[0mauto\u001b[0m \u001b[0;32mimport\u001b[0m \u001b[0;34m*\u001b[0m\u001b[0;34m\u001b[0m\u001b[0;34m\u001b[0m\u001b[0m\n",
            "\u001b[0;32m/opt/conda/lib/python3.7/site-packages/pmdarima/arima/approx.py\u001b[0m in \u001b[0;36m<module>\u001b[0;34m\u001b[0m\n\u001b[1;32m      7\u001b[0m \u001b[0;32mimport\u001b[0m \u001b[0mnumpy\u001b[0m \u001b[0;32mas\u001b[0m \u001b[0mnp\u001b[0m\u001b[0;34m\u001b[0m\u001b[0;34m\u001b[0m\u001b[0m\n\u001b[1;32m      8\u001b[0m \u001b[0;34m\u001b[0m\u001b[0m\n\u001b[0;32m----> 9\u001b[0;31m \u001b[0;32mfrom\u001b[0m \u001b[0;34m.\u001b[0m\u001b[0;34m.\u001b[0m\u001b[0mutils\u001b[0m\u001b[0;34m.\u001b[0m\u001b[0marray\u001b[0m \u001b[0;32mimport\u001b[0m \u001b[0mc\u001b[0m\u001b[0;34m,\u001b[0m \u001b[0mcheck_endog\u001b[0m\u001b[0;34m\u001b[0m\u001b[0;34m\u001b[0m\u001b[0m\n\u001b[0m\u001b[1;32m     10\u001b[0m \u001b[0;32mfrom\u001b[0m \u001b[0;34m.\u001b[0m\u001b[0;34m.\u001b[0m\u001b[0mutils\u001b[0m \u001b[0;32mimport\u001b[0m \u001b[0mget_callable\u001b[0m\u001b[0;34m\u001b[0m\u001b[0;34m\u001b[0m\u001b[0m\n\u001b[1;32m     11\u001b[0m \u001b[0;32mfrom\u001b[0m \u001b[0;34m.\u001b[0m\u001b[0;34m.\u001b[0m\u001b[0mcompat\u001b[0m\u001b[0;34m.\u001b[0m\u001b[0mnumpy\u001b[0m \u001b[0;32mimport\u001b[0m \u001b[0mDTYPE\u001b[0m\u001b[0;34m\u001b[0m\u001b[0;34m\u001b[0m\u001b[0m\n",
            "\u001b[0;32m/opt/conda/lib/python3.7/site-packages/pmdarima/utils/__init__.py\u001b[0m in \u001b[0;36m<module>\u001b[0;34m\u001b[0m\n\u001b[1;32m      3\u001b[0m \u001b[0;31m# Author: Taylor Smith <taylor.smith@alkaline-ml.com>\u001b[0m\u001b[0;34m\u001b[0m\u001b[0;34m\u001b[0m\u001b[0;34m\u001b[0m\u001b[0m\n\u001b[1;32m      4\u001b[0m \u001b[0;34m\u001b[0m\u001b[0m\n\u001b[0;32m----> 5\u001b[0;31m \u001b[0;32mfrom\u001b[0m \u001b[0;34m.\u001b[0m\u001b[0marray\u001b[0m \u001b[0;32mimport\u001b[0m \u001b[0;34m*\u001b[0m\u001b[0;34m\u001b[0m\u001b[0;34m\u001b[0m\u001b[0m\n\u001b[0m\u001b[1;32m      6\u001b[0m \u001b[0;32mfrom\u001b[0m \u001b[0;34m.\u001b[0m\u001b[0mmetaestimators\u001b[0m \u001b[0;32mimport\u001b[0m \u001b[0;34m*\u001b[0m\u001b[0;34m\u001b[0m\u001b[0;34m\u001b[0m\u001b[0m\n\u001b[1;32m      7\u001b[0m \u001b[0;32mfrom\u001b[0m \u001b[0;34m.\u001b[0m\u001b[0mvisualization\u001b[0m \u001b[0;32mimport\u001b[0m \u001b[0;34m*\u001b[0m\u001b[0;34m\u001b[0m\u001b[0;34m\u001b[0m\u001b[0m\n",
            "\u001b[0;32m/opt/conda/lib/python3.7/site-packages/pmdarima/utils/array.py\u001b[0m in \u001b[0;36m<module>\u001b[0;34m\u001b[0m\n\u001b[1;32m     11\u001b[0m \u001b[0;34m\u001b[0m\u001b[0m\n\u001b[1;32m     12\u001b[0m \u001b[0;32mfrom\u001b[0m \u001b[0;34m.\u001b[0m\u001b[0;34m.\u001b[0m\u001b[0mcompat\u001b[0m \u001b[0;32mimport\u001b[0m \u001b[0mDTYPE\u001b[0m\u001b[0;34m\u001b[0m\u001b[0;34m\u001b[0m\u001b[0m\n\u001b[0;32m---> 13\u001b[0;31m \u001b[0;32mfrom\u001b[0m \u001b[0;34m.\u001b[0m\u001b[0m_array\u001b[0m \u001b[0;32mimport\u001b[0m \u001b[0mC_intgrt_vec\u001b[0m\u001b[0;34m\u001b[0m\u001b[0;34m\u001b[0m\u001b[0m\n\u001b[0m\u001b[1;32m     14\u001b[0m \u001b[0;34m\u001b[0m\u001b[0m\n\u001b[1;32m     15\u001b[0m __all__ = [\n",
            "\u001b[0;32mpmdarima/utils/_array.pyx\u001b[0m in \u001b[0;36minit pmdarima.utils._array\u001b[0;34m()\u001b[0m\n",
            "\u001b[0;31mValueError\u001b[0m: numpy.ndarray size changed, may indicate binary incompatibility. Expected 88 from C header, got 80 from PyObject"
          ],
          "ename": "ValueError",
          "evalue": "numpy.ndarray size changed, may indicate binary incompatibility. Expected 88 from C header, got 80 from PyObject",
          "output_type": "error"
        }
      ]
    },
    {
      "cell_type": "code",
      "source": [
        "def plot_arima_forecast(actual, pred_obj, train=[]):\n",
        "    fig1, ax1 = plt.subplots(figsize=(12,  3), constrained_layout=True)\n",
        "\n",
        "    l, u = pred.conf_int().columns\n",
        "    lower = pred_obj.conf_int()[l]\n",
        "    upper = pred_obj.conf_int()[u]\n",
        "\n",
        "    x_label = np.arange(pred_obj.conf_int().index.start, pred_obj.conf_int().index.stop)\n",
        "\n",
        "    if len(train):\n",
        "        ax1.plot(train, label=\"Train\", color=\"black\")\n",
        "    ax1.plot(actual, label=\"Actual\", color=\"red\")\n",
        "    ax1.plot(pred_obj.predicted_mean, label=\"Predicted\", color=\"blue\")\n",
        "    ax1.fill_between(x_label, upper, lower, color=\"grey\", alpha=0.5)\n",
        "    ax1.legend()\n",
        "\n",
        "    return None"
      ],
      "metadata": {
        "execution": {
          "iopub.status.busy": "2024-07-29T21:21:01.885549Z",
          "iopub.execute_input": "2024-07-29T21:21:01.886025Z",
          "iopub.status.idle": "2024-07-29T21:21:01.896749Z",
          "shell.execute_reply.started": "2024-07-29T21:21:01.88598Z",
          "shell.execute_reply": "2024-07-29T21:21:01.895472Z"
        },
        "trusted": true,
        "id": "WCI0ahdTVnNv"
      },
      "execution_count": null,
      "outputs": []
    },
    {
      "cell_type": "code",
      "source": [
        "ss = 100\n",
        "fc = 20\n",
        "returns = []\n",
        "n_positions = 0\n",
        "first_fc_day = 0\n",
        "last_fc_day = 0\n",
        "entry_price = None\n",
        "exit_price = None\n",
        "closes = EURUSD[\"Close\"]\n",
        "fc_bound = []\n",
        "\n",
        "import warnings\n",
        "from statsmodels.tools.sm_exceptions import ConvergenceWarning\n",
        "warnings.simplefilter(\"ignore\", ConvergenceWarning)\n",
        "warnings.simplefilter(\"ignore\", UserWarning)\n",
        "warnings.simplefilter(\"ignore\", RuntimeWarning)\n",
        "\n",
        "start = closes.index[-2000]\n",
        "stop = closes.index[-1]-fc-ss+1\n",
        "\n",
        "for i in range(start, stop):\n",
        "    if not len(fc_bound):\n",
        "        train = closes[i:i+ss]\n",
        "        test = closes[i+ss:i+ss+fc]\n",
        "        auto_arima = pm.auto_arima(train, seasonal=False, max_p=3, max_q=3,\n",
        "                                   stepwise=False, trace=False, suppress_warnings=True, error_action=\"ignore\")\n",
        "        arima = ARIMA(train, order=auto_arima.order).fit()\n",
        "        pred = arima.get_forecast(fc, alpha=0.05)\n",
        "\n",
        "        fc_bound = pred.conf_int()\n",
        "        first_fc_day = fc_bound.index[0]\n",
        "        last_fc_day = fc_bound.index[-1]\n",
        "\n",
        "        l, u = fc_bound.columns\n",
        "        lower = fc_bound[l]\n",
        "        upper = fc_bound[u]\n",
        "\n",
        "        returns.append(1)\n",
        "        continue\n",
        "    if i < last_fc_day:\n",
        "        returns.append(1)\n",
        "        continue\n",
        "    elif i == last_fc_day:\n",
        "        for j in range(first_fc_day, last_fc_day+1):\n",
        "            if closes[j] <= lower[j]: # buy signal\n",
        "                entry_price = closes[j]\n",
        "                exit_price = closes[last_fc_day]\n",
        "                n_positions += 1\n",
        "                r = exit_price / entry_price\n",
        "                returns.append(r)\n",
        "                plot_arima_forecast(test, pred, train)\n",
        "                break\n",
        "            elif closes[j] >= upper[j]: # sell signal\n",
        "                entry_price = closes[j]\n",
        "                exit_price = closes[last_fc_day]\n",
        "                n_positions += 1\n",
        "                r = entry_price / exit_price\n",
        "                returns.append(r)\n",
        "                plot_arima_forecast(test, pred, train)\n",
        "                break\n",
        "        while len(returns) < last_fc_day:\n",
        "            returns.append(1)\n",
        "        # reset\n",
        "        fc_bound = []\n",
        "        entry_price = None\n",
        "        exit_price = None\n",
        "    # in between prompt #\n",
        "    print(\"Index at:\", i, \"/\", len(closes)-1)"
      ],
      "metadata": {
        "execution": {
          "iopub.status.busy": "2024-07-29T21:21:02.763372Z",
          "iopub.execute_input": "2024-07-29T21:21:02.763767Z",
          "iopub.status.idle": "2024-07-29T21:21:02.814129Z",
          "shell.execute_reply.started": "2024-07-29T21:21:02.763732Z",
          "shell.execute_reply": "2024-07-29T21:21:02.812041Z"
        },
        "trusted": true,
        "id": "jFCM4491VnNv",
        "outputId": "066dd09e-a10c-4687-e4c0-362243d21d67"
      },
      "execution_count": null,
      "outputs": [
        {
          "traceback": [
            "\u001b[0;31m---------------------------------------------------------------------------\u001b[0m",
            "\u001b[0;31mNameError\u001b[0m                                 Traceback (most recent call last)",
            "\u001b[0;32m<ipython-input-19-a7b4f5ecc530>\u001b[0m in \u001b[0;36m<module>\u001b[0;34m\u001b[0m\n\u001b[1;32m     23\u001b[0m         \u001b[0mtrain\u001b[0m \u001b[0;34m=\u001b[0m \u001b[0mcloses\u001b[0m\u001b[0;34m[\u001b[0m\u001b[0mi\u001b[0m\u001b[0;34m:\u001b[0m\u001b[0mi\u001b[0m\u001b[0;34m+\u001b[0m\u001b[0mss\u001b[0m\u001b[0;34m]\u001b[0m\u001b[0;34m\u001b[0m\u001b[0;34m\u001b[0m\u001b[0m\n\u001b[1;32m     24\u001b[0m         \u001b[0mtest\u001b[0m \u001b[0;34m=\u001b[0m \u001b[0mcloses\u001b[0m\u001b[0;34m[\u001b[0m\u001b[0mi\u001b[0m\u001b[0;34m+\u001b[0m\u001b[0mss\u001b[0m\u001b[0;34m:\u001b[0m\u001b[0mi\u001b[0m\u001b[0;34m+\u001b[0m\u001b[0mss\u001b[0m\u001b[0;34m+\u001b[0m\u001b[0mfc\u001b[0m\u001b[0;34m]\u001b[0m\u001b[0;34m\u001b[0m\u001b[0;34m\u001b[0m\u001b[0m\n\u001b[0;32m---> 25\u001b[0;31m         auto_arima = pm.auto_arima(train, seasonal=False, max_p=3, max_q=3,\n\u001b[0m\u001b[1;32m     26\u001b[0m                                    stepwise=False, trace=False, suppress_warnings=True, error_action=\"ignore\")\n\u001b[1;32m     27\u001b[0m         \u001b[0marima\u001b[0m \u001b[0;34m=\u001b[0m \u001b[0mARIMA\u001b[0m\u001b[0;34m(\u001b[0m\u001b[0mtrain\u001b[0m\u001b[0;34m,\u001b[0m \u001b[0morder\u001b[0m\u001b[0;34m=\u001b[0m\u001b[0mauto_arima\u001b[0m\u001b[0;34m.\u001b[0m\u001b[0morder\u001b[0m\u001b[0;34m)\u001b[0m\u001b[0;34m.\u001b[0m\u001b[0mfit\u001b[0m\u001b[0;34m(\u001b[0m\u001b[0;34m)\u001b[0m\u001b[0;34m\u001b[0m\u001b[0;34m\u001b[0m\u001b[0m\n",
            "\u001b[0;31mNameError\u001b[0m: name 'pm' is not defined"
          ],
          "ename": "NameError",
          "evalue": "name 'pm' is not defined",
          "output_type": "error"
        }
      ]
    },
    {
      "cell_type": "code",
      "source": [
        "# Return Statistics\n",
        "returns = np.array(returns)\n",
        "equity = np.cumprod(returns)\n",
        "quality = np.sum(returns > 1) / n_positions\n",
        "\n",
        "fig, ax = plt.subplots(figsize=(12, 6), constrained_layout=True)\n",
        "\n",
        "ax.plot(equity, color=\"blue\")\n",
        "ax.set_title(\"Equity Return / Signal quality: {:.2%}\".format(quality))\n",
        "ax.yaxis.set_major_formatter(mtick.PercentFormatter(xmax=1.0, decimals=2))\n",
        "ax.grid()"
      ],
      "metadata": {
        "execution": {
          "iopub.status.busy": "2024-07-29T21:19:23.226008Z",
          "iopub.status.idle": "2024-07-29T21:19:23.226473Z"
        },
        "trusted": true,
        "id": "YxAJVF1QVnNv"
      },
      "execution_count": null,
      "outputs": []
    },
    {
      "cell_type": "markdown",
      "source": [
        "<hr>"
      ],
      "metadata": {
        "id": "egycaCzZVnNv"
      }
    },
    {
      "cell_type": "markdown",
      "source": [
        "## ETS"
      ],
      "metadata": {
        "id": "GOjpguN_VnNw"
      }
    },
    {
      "cell_type": "code",
      "source": [
        "from statsmodels.tsa.exponential_smoothing.ets import ETSModel"
      ],
      "metadata": {
        "execution": {
          "iopub.status.busy": "2024-07-29T21:19:23.227483Z",
          "iopub.status.idle": "2024-07-29T21:19:23.227996Z"
        },
        "trusted": true,
        "id": "o5wgq1e_VnNw"
      },
      "execution_count": null,
      "outputs": []
    },
    {
      "cell_type": "code",
      "source": [
        "def plot_ets_forecast(actual, pred_df, train=[]):\n",
        "    fig1, ax1 = plt.subplots(figsize=(12,  3), constrained_layout=True)\n",
        "\n",
        "    pred_mean = pred_df.mean(axis=1)\n",
        "    upper = pred_df.quantile(0.975, axis=1)\n",
        "    lower = pred_df.quantile(0.025, axis=1)\n",
        "\n",
        "    x_label = np.arange(pred_df.index.start, pred_df.index.stop)\n",
        "\n",
        "    if len(train):\n",
        "        ax1.plot(train, label=\"Train\", color=\"black\")\n",
        "    ax1.plot(actual, label=\"Actual\", color=\"red\")\n",
        "    ax1.plot(pred_mean, label=\"Predicted\", color=\"blue\")\n",
        "    ax1.fill_between(x_label, upper, lower, color=\"grey\", alpha=0.5)\n",
        "    ax1.legend()\n",
        "\n",
        "    return None"
      ],
      "metadata": {
        "execution": {
          "iopub.status.busy": "2024-07-29T21:19:23.229029Z",
          "iopub.status.idle": "2024-07-29T21:19:23.229504Z"
        },
        "trusted": true,
        "id": "ORq5Jv7vVnNw"
      },
      "execution_count": null,
      "outputs": []
    },
    {
      "cell_type": "code",
      "source": [
        "def auto_ets(y, error=None, trend=None, damped_trend=None):\n",
        "    models = []\n",
        "\n",
        "    ee = [error] if error else [\"add\", \"mul\"]\n",
        "    tt = [trend] if trend else [\"add\", \"mul\", None]\n",
        "    dd = [damped_trend] if damped_trend else [True, False]\n",
        "\n",
        "    for e in ee:\n",
        "        for t in tt:\n",
        "            for d in dd:\n",
        "                if not t and d:\n",
        "                    continue\n",
        "                ets_model = ETSModel(y, error=e, trend=t, damped_trend=d)\n",
        "                ets = ets_model.fit()\n",
        "                models.append([ets_model, ets.aic])\n",
        "    return sorted(models, key=lambda x: x[1])[0]"
      ],
      "metadata": {
        "execution": {
          "iopub.status.busy": "2024-07-29T21:19:23.230571Z",
          "iopub.status.idle": "2024-07-29T21:19:23.231081Z"
        },
        "trusted": true,
        "id": "qpGQxEaaVnNw"
      },
      "execution_count": null,
      "outputs": []
    },
    {
      "cell_type": "code",
      "source": [
        "ss = 100\n",
        "fc = 20\n",
        "returns = []\n",
        "n_positions = 0\n",
        "first_fc_day = 0\n",
        "last_fc_day = 0\n",
        "entry_price = None\n",
        "exit_price = None\n",
        "closes = EURUSD[\"Close\"]\n",
        "fc_bound = []\n",
        "\n",
        "import warnings\n",
        "from statsmodels.tools.sm_exceptions import ConvergenceWarning\n",
        "warnings.simplefilter(\"ignore\", ConvergenceWarning)\n",
        "warnings.simplefilter(\"ignore\", UserWarning)\n",
        "warnings.simplefilter(\"ignore\", RuntimeWarning)\n",
        "\n",
        "start = closes.index[-10000]\n",
        "stop = closes.index[-1]-fc-ss+1\n",
        "\n",
        "for i in range(start, stop):\n",
        "    # in between prompt #\n",
        "    if not len(fc_bound):\n",
        "        print(\"Index at:\", i, \"/\", stop)\n",
        "    if not len(fc_bound):\n",
        "        train = closes[i:i+ss]\n",
        "        test = closes[i+ss:i+ss+fc]\n",
        "        ets_model, _ = auto_ets(train)\n",
        "        ets = ets_model.fit()\n",
        "        pred_df = ets.simulate(anchor=\"end\", nsimulations=fc, repetitions=100)\n",
        "\n",
        "        fc_bound = pred_df\n",
        "        first_fc_day = fc_bound.index[0]\n",
        "        last_fc_day = fc_bound.index[-1]\n",
        "\n",
        "        lower = pred_df.quantile(0.025, axis=1)\n",
        "        upper = pred_df.quantile(0.975, axis=1)\n",
        "\n",
        "        returns.append(1)\n",
        "        continue\n",
        "    if i < last_fc_day:\n",
        "        returns.append(1)\n",
        "        continue\n",
        "    elif i == last_fc_day:\n",
        "        for j in range(first_fc_day, last_fc_day+1):\n",
        "            if closes[j] <= lower[j]: # buy signal\n",
        "                entry_price = closes[j]\n",
        "                exit_price = closes[last_fc_day]\n",
        "                n_positions += 1\n",
        "                r = exit_price / entry_price\n",
        "                plot_ets_forecast(test, pred_df, train)\n",
        "                break\n",
        "            elif closes[j] >= upper[j]: # sell signal\n",
        "                entry_price = closes[j]\n",
        "                exit_price = closes[last_fc_day]\n",
        "                n_positions += 1\n",
        "                r = entry_price / exit_price\n",
        "                plot_ets_forecast(test, pred_df, train)\n",
        "                break\n",
        "        else:\n",
        "            r = 1\n",
        "        returns.append(r)\n",
        "        # reset\n",
        "        fc_bound = []\n",
        "        entry_price = None\n",
        "        exit_price = None"
      ],
      "metadata": {
        "execution": {
          "iopub.status.busy": "2024-07-29T21:19:23.232433Z",
          "iopub.status.idle": "2024-07-29T21:19:23.233169Z"
        },
        "trusted": true,
        "id": "QjBzpSerVnNw"
      },
      "execution_count": null,
      "outputs": []
    },
    {
      "cell_type": "code",
      "source": [
        "# Return Statistics\n",
        "returns = np.array(returns)\n",
        "equity = np.cumprod(returns)\n",
        "quality = np.sum(returns > 1) / n_positions\n",
        "\n",
        "fig, ax = plt.subplots(figsize=(12, 6), constrained_layout=True)\n",
        "\n",
        "x_label = np.arange(start, stop)\n",
        "\n",
        "ax.plot(x_label, equity, color=\"blue\")\n",
        "ax.set_title(\"Equity Return / Signal quality: {:.2%}\".format(quality))\n",
        "ax.yaxis.set_major_formatter(mtick.PercentFormatter(xmax=1.0, decimals=2))\n",
        "ax.grid()"
      ],
      "metadata": {
        "execution": {
          "iopub.status.busy": "2024-07-29T21:19:23.234501Z",
          "iopub.status.idle": "2024-07-29T21:19:23.23522Z"
        },
        "trusted": true,
        "id": "v9QbOWNyVnNw"
      },
      "execution_count": null,
      "outputs": []
    },
    {
      "cell_type": "markdown",
      "source": [
        "## Multistep"
      ],
      "metadata": {
        "id": "iVOpXtlYVnNw"
      }
    },
    {
      "cell_type": "code",
      "source": [
        "x = np.reshape(SP500[\"close\"].values, [len(SP500[\"close\"]), 1])\n",
        "\n",
        "# Feature Scaling\n",
        "sc = MinMaxScaler(feature_range=(0, 1))\n",
        "x = sc.fit_transform(x)\n",
        "\n",
        "# Train Test Split\n",
        "split = int(np.round(len(x) * 0.8, 0))\n",
        "\n",
        "xx = []\n",
        "yy = []\n",
        "\n",
        "for i in range(10, len(x)-1):\n",
        "    xx.append(x[i-10:i])\n",
        "    yy.append(x[i+1])\n",
        "\n",
        "xx = np.reshape(xx, (len(xx), len(xx[0]), 1))\n",
        "yy = np.array(yy)\n",
        "\n",
        "xt, xv = xx[:split], xx[split:]\n",
        "yt, yv = yy[:split], yy[split:]"
      ],
      "metadata": {
        "execution": {
          "iopub.status.busy": "2024-07-29T21:19:23.236803Z",
          "iopub.status.idle": "2024-07-29T21:19:23.237542Z"
        },
        "trusted": true,
        "id": "x0KpXrJiVnNx"
      },
      "execution_count": null,
      "outputs": []
    },
    {
      "cell_type": "code",
      "source": [
        "xt.shape"
      ],
      "metadata": {
        "execution": {
          "iopub.status.busy": "2024-07-29T21:19:23.238829Z",
          "iopub.status.idle": "2024-07-29T21:19:23.23954Z"
        },
        "trusted": true,
        "id": "hgoiOS3hVnNx"
      },
      "execution_count": null,
      "outputs": []
    },
    {
      "cell_type": "code",
      "source": [],
      "metadata": {
        "id": "5wLjO-DpVnNx"
      },
      "execution_count": null,
      "outputs": []
    }
  ]
}