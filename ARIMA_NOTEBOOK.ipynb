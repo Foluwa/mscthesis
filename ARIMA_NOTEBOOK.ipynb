{
  "cells": [
    {
      "cell_type": "code",
      "execution_count": null,
      "metadata": {
        "_cell_guid": "b1076dfc-b9ad-4769-8c92-a6c4dae69d19",
        "_uuid": "8f2839f25d086af736a60e9eeb907d3b93b6e0e5",
        "execution": {
          "iopub.execute_input": "2024-07-29T21:17:10.73642Z",
          "iopub.status.busy": "2024-07-29T21:17:10.73591Z",
          "iopub.status.idle": "2024-07-29T21:17:18.91412Z",
          "shell.execute_reply": "2024-07-29T21:17:18.913009Z",
          "shell.execute_reply.started": "2024-07-29T21:17:10.736316Z"
        },
        "id": "f2BFSIQ8VnNn",
        "trusted": true
      },
      "outputs": [],
      "source": [
        "!curl ipinfo.io\n",
        "!pip install yfinance "
      ]
    },
    {
      "cell_type": "markdown",
      "metadata": {
        "id": "ujDSAp22VnNo"
      },
      "source": [
        "## Parse Data"
      ]
    },
    {
      "cell_type": "markdown",
      "metadata": {},
      "source": [
        "# 1. PACKAGE IMPORTING AND DATA COLLECTION\n"
      ]
    },
    {
      "cell_type": "markdown",
      "metadata": {},
      "source": [
        "# Standard library imports\n",
        "import os\n",
        "import sys\n",
        "import math\n",
        "import warnings\n",
        "import itertools\n",
        "from math import sqrt\n",
        "from datetime import datetime\n",
        "from itertools import product\n",
        "from datetime import datetime, timedelta\n",
        "\n",
        "# Third-party library imports\n",
        "from arch import arch_model\n",
        "import matplotlib.dates as mdates\n",
        "import matplotlib.pyplot as plt\n",
        "from pylab import rcParams\n",
        "import numpy as np\n",
        "import pandas as pd\n",
        "import seaborn as sns\n",
        "import yfinance as yf\n",
        "import plotly.express as px\n",
        "import plotly.graph_objects as go\n",
        "from plotly.subplots import make_subplots\n",
        "\n",
        "from pmdarima import auto_arima\n",
        "from pandas.plotting import lag_plot\n",
        "from pandas_datareader import data as pdr\n",
        "from sklearn.model_selection import train_test_split\n",
        "from sklearn.preprocessing import MinMaxScaler\n",
        "from sklearn.metrics import mean_absolute_error, mean_squared_error, r2_score\n",
        "from statsmodels.tsa.arima.model import ARIMA\n",
        "from statsmodels.tsa.seasonal import seasonal_decompose\n",
        "from statsmodels.tsa.holtwinters import ExponentialSmoothing, SimpleExpSmoothing, Holt\n",
        "from statsmodels.tsa.stattools import adfuller\n",
        "from statsmodels.graphics.tsaplots import plot_acf, plot_pacf\n",
        "\n",
        "# TensorFlow and Keras imports\n",
        "import tensorflow as tf\n",
        "from tensorflow import keras\n",
        "from keras.callbacks import EarlyStopping\n",
        "from keras.layers import Dense, Dropout, LSTM\n",
        "from keras.utils import plot_model\n",
        "from keras.models import Sequential\n",
        "\n",
        "# IPython display\n",
        "from IPython.display import Image, display, HTML\n",
        "\n",
        "# Matplotlib configuration\n",
        "# rcParams['figure.figsize'] = 10, 6"
      ]
    },
    {
      "cell_type": "code",
      "execution_count": null,
      "metadata": {},
      "outputs": [],
      "source": [
        "warnings.filterwarnings(\"ignore\")\n",
        "# Use a consistent style\n",
        "plt.style.use('seaborn')"
      ]
    },
    {
      "cell_type": "code",
      "execution_count": null,
      "metadata": {},
      "outputs": [],
      "source": [
        "# Download data\n",
        "TICKER = \"TSLA\"\n",
        "target_column = 'Close'\n",
        "df = yf.download(TICKER, start=\"2018-01-01\", end=\"2024-01-01\").reset_index()"
      ]
    },
    {
      "cell_type": "code",
      "execution_count": null,
      "metadata": {},
      "outputs": [],
      "source": [
        "csv_path = 'TSLA.csv'\n",
        "df.to_csv(csv_path, index=False)"
      ]
    },
    {
      "cell_type": "markdown",
      "metadata": {},
      "source": [
        "#### Split Data into training and testing sets"
      ]
    },
    {
      "cell_type": "code",
      "execution_count": null,
      "metadata": {},
      "outputs": [],
      "source": [
        "df.reset_index(inplace=True)\n",
        "df['Date'] = pd.to_datetime(df['Date'])\n",
        "df.set_index('Date', inplace=True)\n",
        "\n",
        "# Split the data into training and test sets\n",
        "split_date = df.index[int(len(df) * 0.8)]\n",
        "train = df[:split_date]\n",
        "test = df[split_date:]"
      ]
    },
    {
      "cell_type": "code",
      "execution_count": null,
      "metadata": {},
      "outputs": [],
      "source": [
        "df[['Open', 'High',\t'Low',\t'Close',\t'Adj Close',\t'Volume']].describe()"
      ]
    },
    {
      "cell_type": "code",
      "execution_count": null,
      "metadata": {},
      "outputs": [],
      "source": [
        "df.dtypes"
      ]
    },
    {
      "cell_type": "code",
      "execution_count": null,
      "metadata": {},
      "outputs": [],
      "source": [
        "# Check for missing values\n",
        "df.isnull().sum()"
      ]
    }
  ],
  "metadata": {
    "colab": {
      "provenance": []
    },
    "kaggle": {
      "accelerator": "none",
      "dataSources": [
        {
          "datasetId": 867,
          "sourceId": 1580,
          "sourceType": "datasetVersion"
        },
        {
          "datasetId": 55485,
          "sourceId": 106148,
          "sourceType": "datasetVersion"
        }
      ],
      "dockerImageVersionId": 30120,
      "isGpuEnabled": false,
      "isInternetEnabled": true,
      "language": "python",
      "sourceType": "notebook"
    },
    "kernelspec": {
      "display_name": "Python 3",
      "language": "python",
      "name": "python3"
    },
    "language_info": {
      "codemirror_mode": {
        "name": "ipython",
        "version": 3
      },
      "file_extension": ".py",
      "mimetype": "text/x-python",
      "name": "python",
      "nbconvert_exporter": "python",
      "pygments_lexer": "ipython3",
      "version": "3.7.10"
    }
  },
  "nbformat": 4,
  "nbformat_minor": 0
}
